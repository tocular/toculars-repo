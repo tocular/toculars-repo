{
 "cells": [
  {
   "cell_type": "markdown",
   "id": "b97a1ed3-c92b-4647-b086-8fd27328874b",
   "metadata": {},
   "source": [
    "# Data Cleaning for African Startup Deals Data\n",
    "\n",
    "Building a model that predicts the size of funding rounds by African tech startups based on a set of selected factors.\n",
    "\n",
    "__Data__: [Africa: The Big Deal Startup Deals Database, March 2022 release by Max Cuvellier and Maxime Bayen.](https://thebigdeal.gumroad.com/membership)\n",
    "\n",
    "__Note:__ For 2020, the database only captures deals of USD 500,000 or more for 2020 and deals of over USD 1 million for 2019.\n",
    "\n",
    "\n"
   ]
  },
  {
   "cell_type": "markdown",
   "id": "fb653bb6-effa-40a5-8ee5-b426130f75ef",
   "metadata": {},
   "source": [
    "### Loading data for cleaning"
   ]
  },
  {
   "cell_type": "code",
   "execution_count": 4,
   "id": "9e2d280c-4102-41c8-a005-7fba8fdee217",
   "metadata": {
    "tags": []
   },
   "outputs": [],
   "source": [
    "import pandas as pd\n",
    "import numpy as np"
   ]
  },
  {
   "cell_type": "code",
   "execution_count": 5,
   "id": "745014b9-6f34-4e88-97d9-5c628cf4c94e",
   "metadata": {},
   "outputs": [],
   "source": [
    "# loading the data from the specified sheet of the XLSX file\n",
    "deals = pd.read_excel(\"final project/2019-2022 Africa The Big Deal_Database_2022041.xlsx\", \n",
    "                   sheet_name='Deals')"
   ]
  },
  {
   "cell_type": "code",
   "execution_count": 6,
   "id": "8f25d78b-9264-494f-ac6f-045126f46972",
   "metadata": {
    "tags": []
   },
   "outputs": [
    {
     "data": {
      "text/html": [
       "<div>\n",
       "<style scoped>\n",
       "    .dataframe tbody tr th:only-of-type {\n",
       "        vertical-align: middle;\n",
       "    }\n",
       "\n",
       "    .dataframe tbody tr th {\n",
       "        vertical-align: top;\n",
       "    }\n",
       "\n",
       "    .dataframe thead th {\n",
       "        text-align: right;\n",
       "    }\n",
       "</style>\n",
       "<table border=\"1\" class=\"dataframe\">\n",
       "  <thead>\n",
       "    <tr style=\"text-align: right;\">\n",
       "      <th></th>\n",
       "      <th>Unnamed: 0</th>\n",
       "      <th>Unnamed: 1</th>\n",
       "      <th>Unnamed: 2</th>\n",
       "      <th>Unnamed: 3</th>\n",
       "      <th>Unnamed: 4</th>\n",
       "      <th>Unnamed: 5</th>\n",
       "      <th>Unnamed: 6</th>\n",
       "      <th>Unnamed: 7</th>\n",
       "      <th>Unnamed: 8</th>\n",
       "      <th>Unnamed: 9</th>\n",
       "      <th>...</th>\n",
       "      <th>Unnamed: 22</th>\n",
       "      <th>Unnamed: 23</th>\n",
       "      <th>Unnamed: 24</th>\n",
       "      <th>Unnamed: 25</th>\n",
       "      <th>Unnamed: 26</th>\n",
       "      <th>Unnamed: 27</th>\n",
       "      <th>Unnamed: 28</th>\n",
       "      <th>Unnamed: 29</th>\n",
       "      <th>Unnamed: 30</th>\n",
       "      <th>Unnamed: 31</th>\n",
       "    </tr>\n",
       "  </thead>\n",
       "  <tbody>\n",
       "    <tr>\n",
       "      <th>0</th>\n",
       "      <td>NaN</td>\n",
       "      <td>AFRICA STARTUPS DEALS DATABASE - 2019-2022</td>\n",
       "      <td>NaN</td>\n",
       "      <td>NaN</td>\n",
       "      <td>NaN</td>\n",
       "      <td>NaN</td>\n",
       "      <td>NaN</td>\n",
       "      <td>NaN</td>\n",
       "      <td>NaN</td>\n",
       "      <td>NaN</td>\n",
       "      <td>...</td>\n",
       "      <td>NaN</td>\n",
       "      <td>NaN</td>\n",
       "      <td>NaN</td>\n",
       "      <td>NaN</td>\n",
       "      <td>NaN</td>\n",
       "      <td>NaN</td>\n",
       "      <td>NaN</td>\n",
       "      <td>NaN</td>\n",
       "      <td>NaN</td>\n",
       "      <td>NaN</td>\n",
       "    </tr>\n",
       "    <tr>\n",
       "      <th>1</th>\n",
       "      <td>NaN</td>\n",
       "      <td>NaN</td>\n",
       "      <td>NaN</td>\n",
       "      <td>NaN</td>\n",
       "      <td>NaN</td>\n",
       "      <td>NaN</td>\n",
       "      <td>NaN</td>\n",
       "      <td>NaN</td>\n",
       "      <td>NaN</td>\n",
       "      <td>NaN</td>\n",
       "      <td>...</td>\n",
       "      <td>NaN</td>\n",
       "      <td>NaN</td>\n",
       "      <td>NaN</td>\n",
       "      <td>NaN</td>\n",
       "      <td>NaN</td>\n",
       "      <td>NaN</td>\n",
       "      <td>NaN</td>\n",
       "      <td>NaN</td>\n",
       "      <td>NaN</td>\n",
       "      <td>NaN</td>\n",
       "    </tr>\n",
       "    <tr>\n",
       "      <th>2</th>\n",
       "      <td>NaN</td>\n",
       "      <td>Deal Year</td>\n",
       "      <td>Deal Date</td>\n",
       "      <td>Start-up name</td>\n",
       "      <td>Website</td>\n",
       "      <td>Country HQ</td>\n",
       "      <td>Launch</td>\n",
       "      <td>Tweet pitch</td>\n",
       "      <td>Sector</td>\n",
       "      <td># of Founders</td>\n",
       "      <td>...</td>\n",
       "      <td>Founders gender mix</td>\n",
       "      <td>Amount disclosure</td>\n",
       "      <td>Amount raised $M</td>\n",
       "      <td>Comment</td>\n",
       "      <td>Bracket</td>\n",
       "      <td>Type</td>\n",
       "      <td>Valuation $M</td>\n",
       "      <td>1st $M ?</td>\n",
       "      <td>Link to news</td>\n",
       "      <td>Investors</td>\n",
       "    </tr>\n",
       "    <tr>\n",
       "      <th>3</th>\n",
       "      <td>NaN</td>\n",
       "      <td>2019</td>\n",
       "      <td>2019-01-01 00:00:00</td>\n",
       "      <td>Andela</td>\n",
       "      <td>https://andela.com/</td>\n",
       "      <td>Nigeria</td>\n",
       "      <td>2014</td>\n",
       "      <td>Software developer training and outsourcing co...</td>\n",
       "      <td>Education &amp; Jobs</td>\n",
       "      <td>4</td>\n",
       "      <td>...</td>\n",
       "      <td>Gender-diverse founding team</td>\n",
       "      <td>NaN</td>\n",
       "      <td>100</td>\n",
       "      <td>NaN</td>\n",
       "      <td>$100M+</td>\n",
       "      <td>Series D</td>\n",
       "      <td>NaN</td>\n",
       "      <td>No</td>\n",
       "      <td>https://qz.com/africa/1531075/andela-raises-10...</td>\n",
       "      <td>Generation Investment Management, Chan Zuckerb...</td>\n",
       "    </tr>\n",
       "    <tr>\n",
       "      <th>4</th>\n",
       "      <td>NaN</td>\n",
       "      <td>2019</td>\n",
       "      <td>2019-01-01 00:00:00</td>\n",
       "      <td>Bbox</td>\n",
       "      <td>https://www.bboxx.co.uk/</td>\n",
       "      <td>Africa</td>\n",
       "      <td>2010</td>\n",
       "      <td>Plug &amp; play systems to power off-grid areas</td>\n",
       "      <td>Energy &amp; Water</td>\n",
       "      <td>3</td>\n",
       "      <td>...</td>\n",
       "      <td>Male-only founding team</td>\n",
       "      <td>NaN</td>\n",
       "      <td>31</td>\n",
       "      <td>NaN</td>\n",
       "      <td>$10M-$50M</td>\n",
       "      <td>Venture Round</td>\n",
       "      <td>NaN</td>\n",
       "      <td>No</td>\n",
       "      <td>https://mercomindia.com/aiim-invest-31-million...</td>\n",
       "      <td>Africa Infrastructure Investment Managers</td>\n",
       "    </tr>\n",
       "  </tbody>\n",
       "</table>\n",
       "<p>5 rows × 32 columns</p>\n",
       "</div>"
      ],
      "text/plain": [
       "   Unnamed: 0                                  Unnamed: 1  \\\n",
       "0         NaN  AFRICA STARTUPS DEALS DATABASE - 2019-2022   \n",
       "1         NaN                                         NaN   \n",
       "2         NaN                                   Deal Year   \n",
       "3         NaN                                        2019   \n",
       "4         NaN                                        2019   \n",
       "\n",
       "            Unnamed: 2     Unnamed: 3                Unnamed: 4  Unnamed: 5  \\\n",
       "0                  NaN            NaN                       NaN         NaN   \n",
       "1                  NaN            NaN                       NaN         NaN   \n",
       "2            Deal Date  Start-up name                   Website  Country HQ   \n",
       "3  2019-01-01 00:00:00         Andela       https://andela.com/     Nigeria   \n",
       "4  2019-01-01 00:00:00           Bbox  https://www.bboxx.co.uk/      Africa   \n",
       "\n",
       "  Unnamed: 6                                         Unnamed: 7  \\\n",
       "0        NaN                                                NaN   \n",
       "1        NaN                                                NaN   \n",
       "2     Launch                                        Tweet pitch   \n",
       "3       2014  Software developer training and outsourcing co...   \n",
       "4       2010        Plug & play systems to power off-grid areas   \n",
       "\n",
       "         Unnamed: 8     Unnamed: 9  ...                   Unnamed: 22  \\\n",
       "0               NaN            NaN  ...                           NaN   \n",
       "1               NaN            NaN  ...                           NaN   \n",
       "2            Sector  # of Founders  ...           Founders gender mix   \n",
       "3  Education & Jobs              4  ...  Gender-diverse founding team   \n",
       "4    Energy & Water              3  ...       Male-only founding team   \n",
       "\n",
       "         Unnamed: 23       Unnamed: 24 Unnamed: 25 Unnamed: 26    Unnamed: 27  \\\n",
       "0                NaN               NaN         NaN         NaN            NaN   \n",
       "1                NaN               NaN         NaN         NaN            NaN   \n",
       "2  Amount disclosure  Amount raised $M     Comment     Bracket           Type   \n",
       "3                NaN               100         NaN      $100M+       Series D   \n",
       "4                NaN                31         NaN   $10M-$50M  Venture Round   \n",
       "\n",
       "    Unnamed: 28 Unnamed: 29  \\\n",
       "0           NaN         NaN   \n",
       "1           NaN         NaN   \n",
       "2  Valuation $M    1st $M ?   \n",
       "3           NaN          No   \n",
       "4           NaN          No   \n",
       "\n",
       "                                         Unnamed: 30  \\\n",
       "0                                                NaN   \n",
       "1                                                NaN   \n",
       "2                                       Link to news   \n",
       "3  https://qz.com/africa/1531075/andela-raises-10...   \n",
       "4  https://mercomindia.com/aiim-invest-31-million...   \n",
       "\n",
       "                                         Unnamed: 31  \n",
       "0                                                NaN  \n",
       "1                                                NaN  \n",
       "2                                          Investors  \n",
       "3  Generation Investment Management, Chan Zuckerb...  \n",
       "4          Africa Infrastructure Investment Managers  \n",
       "\n",
       "[5 rows x 32 columns]"
      ]
     },
     "execution_count": 6,
     "metadata": {},
     "output_type": "execute_result"
    }
   ],
   "source": [
    "# looks like the first two rows of the spreadsheet were empty\n",
    "deals.head()"
   ]
  },
  {
   "cell_type": "code",
   "execution_count": 7,
   "id": "5cb01efc-06e0-4ced-a176-8cb178ae84ec",
   "metadata": {},
   "outputs": [],
   "source": [
    "# making row 2 the column headers\n",
    "deals.columns = deals.loc[2]"
   ]
  },
  {
   "cell_type": "code",
   "execution_count": 8,
   "id": "7e79597d-7c23-4d8d-aaa7-8f330c662f1b",
   "metadata": {},
   "outputs": [],
   "source": [
    "# dropping the empty columns and resetting the index\n",
    "deals = deals.iloc[3:, 1:].reset_index(drop = True)"
   ]
  },
  {
   "cell_type": "code",
   "execution_count": 9,
   "id": "2c2e20aa-daf6-49f4-a88e-b17d2fc52ccd",
   "metadata": {
    "tags": []
   },
   "outputs": [
    {
     "name": "stdout",
     "output_type": "stream",
     "text": [
      "<class 'pandas.core.frame.DataFrame'>\n",
      "RangeIndex: 1463 entries, 0 to 1462\n",
      "Data columns (total 31 columns):\n",
      " #   Column                                       Non-Null Count  Dtype \n",
      "---  ------                                       --------------  ----- \n",
      " 0   Deal Year                                    1463 non-null   object\n",
      " 1   Deal Date                                    1463 non-null   object\n",
      " 2   Start-up name                                1463 non-null   object\n",
      " 3   Website                                      1463 non-null   object\n",
      " 4   Country HQ                                   1463 non-null   object\n",
      " 5   Launch                                       1463 non-null   object\n",
      " 6   Tweet pitch                                  1463 non-null   object\n",
      " 7   Sector                                       1462 non-null   object\n",
      " 8   # of Founders                                1463 non-null   object\n",
      " 9   Founder 1 (CEO)                              1452 non-null   object\n",
      " 10  Founder 2                                    1089 non-null   object\n",
      " 11  Founder 3                                    400 non-null    object\n",
      " 12  Founder 4                                    98 non-null     object\n",
      " 13  CEO - University/School                      1462 non-null   object\n",
      " 14  CEO - University/School - Country            1462 non-null   object\n",
      " 15  CEO - University/School - Continent          1463 non-null   object\n",
      " 16  CEO Graduation year                          1462 non-null   object\n",
      " 17  Years between graduation and startup launch  1462 non-null   object\n",
      " 18  Woman co-founder                             1451 non-null   object\n",
      " 19  Woman CEO                                    357 non-null    object\n",
      " 20  Women only founders                          356 non-null    object\n",
      " 21  Founders gender mix                          1463 non-null   object\n",
      " 22  Amount disclosure                            329 non-null    object\n",
      " 23  Amount raised $M                             1463 non-null   object\n",
      " 24  Comment                                      404 non-null    object\n",
      " 25  Bracket                                      1463 non-null   object\n",
      " 26  Type                                         1463 non-null   object\n",
      " 27  Valuation $M                                 76 non-null     object\n",
      " 28  1st $M ?                                     578 non-null    object\n",
      " 29  Link to news                                 1462 non-null   object\n",
      " 30  Investors                                    1463 non-null   object\n",
      "dtypes: object(31)\n",
      "memory usage: 354.4+ KB\n"
     ]
    }
   ],
   "source": [
    "deals.info()"
   ]
  },
  {
   "cell_type": "code",
   "execution_count": 10,
   "id": "837e5190-32b9-4f81-bebd-a2c87a1b0708",
   "metadata": {},
   "outputs": [],
   "source": [
    "# for comparison\n",
    "comp = deals[\"Bracket\"].value_counts(normalize = True)"
   ]
  },
  {
   "cell_type": "code",
   "execution_count": 11,
   "id": "b357916b-5ba2-4091-aaef-700b35deb21d",
   "metadata": {
    "tags": []
   },
   "outputs": [
    {
     "data": {
      "text/plain": [
       "2\n",
       "Deal Year                                         0\n",
       "Deal Date                                         0\n",
       "Start-up name                                     0\n",
       "Website                                           0\n",
       "Country HQ                                        0\n",
       "Launch                                            0\n",
       "Tweet pitch                                       0\n",
       "Sector                                            1\n",
       "# of Founders                                     0\n",
       "Founder 1 (CEO)                                  11\n",
       "Founder 2                                       374\n",
       "Founder 3                                      1063\n",
       "Founder 4                                      1365\n",
       "CEO - University/School                           1\n",
       "CEO - University/School - Country                 1\n",
       "CEO - University/School - Continent               0\n",
       "CEO Graduation year                               1\n",
       "Years between graduation and startup launch       1\n",
       "Woman co-founder                                 12\n",
       "Woman CEO                                      1106\n",
       "Women only founders                            1107\n",
       "Founders gender mix                               0\n",
       "Amount disclosure                              1134\n",
       "Amount raised $M                                  0\n",
       "Comment                                        1059\n",
       "Bracket                                           0\n",
       "Type                                              0\n",
       "Valuation $M                                   1387\n",
       "1st $M ?                                        885\n",
       "Link to news                                      1\n",
       "Investors                                         0\n",
       "dtype: int64"
      ]
     },
     "execution_count": 11,
     "metadata": {},
     "output_type": "execute_result"
    }
   ],
   "source": [
    "# counting number of missing values for each column\n",
    "deals.isnull().sum()"
   ]
  },
  {
   "cell_type": "markdown",
   "id": "f3e9422c-3c50-49c2-97f0-dcafcd51e8d5",
   "metadata": {},
   "source": [
    "### Fixing dates"
   ]
  },
  {
   "cell_type": "code",
   "execution_count": 12,
   "id": "ca3ea68d-5b39-481c-bbb5-8ce7a71d1499",
   "metadata": {},
   "outputs": [],
   "source": [
    "# formatting dates\n",
    "deals['Deal Date'] = pd.to_datetime(deals['Deal Date']).dt.strftime('%Y-%m')\n",
    "deals['Deal Month'] = pd.DatetimeIndex(deals['Deal Date']).month\n",
    "deals['Deal Year'] = pd.DatetimeIndex(deals['Deal Date']).year # overwriting the year column just in case"
   ]
  },
  {
   "cell_type": "code",
   "execution_count": 13,
   "id": "c4820919-910f-40e1-836e-a17bed52e53b",
   "metadata": {},
   "outputs": [],
   "source": [
    "# reordering columns\n",
    "cols = deals.columns.tolist()\n",
    "cols = cols[-1:] + cols[:-1] # last column + everything but the last column\n",
    "deals = deals[cols]"
   ]
  },
  {
   "cell_type": "markdown",
   "id": "babbf214-01cf-4d35-bead-ce27e5a7908c",
   "metadata": {},
   "source": [
    "### Correcting categorical levels + dropping redacted deals"
   ]
  },
  {
   "cell_type": "code",
   "execution_count": 14,
   "id": "3af7237c-9304-40ba-81dd-baec0ed477f8",
   "metadata": {
    "tags": []
   },
   "outputs": [
    {
     "data": {
      "text/plain": [
       "Fintech                           423\n",
       "Logistics & Transport             155\n",
       "Energy & Water                    150\n",
       "Healthcare                        129\n",
       "Services                          125\n",
       "Agriculture & Food                120\n",
       "Retail                            119\n",
       "Education & Jobs                   89\n",
       "Telecom, Media & Entertainment     52\n",
       "Deeptech                           44\n",
       "Housing                            22\n",
       "Waste Management                   16\n",
       "FinTech                            15\n",
       "DeepTech                            3\n",
       "Name: Sector, dtype: int64"
      ]
     },
     "execution_count": 14,
     "metadata": {},
     "output_type": "execute_result"
    }
   ],
   "source": [
    "# note that there are two fintech categories\n",
    "deals[\"Sector\"].value_counts()"
   ]
  },
  {
   "cell_type": "code",
   "execution_count": 15,
   "id": "3e75f335-c6df-4c4b-9049-a79ae10cef98",
   "metadata": {},
   "outputs": [],
   "source": [
    "# combining the two fintech labels and the deeptech labels\n",
    "deals[\"Sector\"] = np.where(deals[\"Sector\"] == \"FinTech\", \"Fintech\", deals[\"Sector\"])\n",
    "deals[\"Sector\"] = np.where(deals[\"Sector\"] == \"DeepTech\", \"Deeptech\", deals[\"Sector\"])"
   ]
  },
  {
   "cell_type": "code",
   "execution_count": 16,
   "id": "c6e6fccd-aef7-46bb-8915-e252b9089bb7",
   "metadata": {
    "tags": []
   },
   "outputs": [
    {
     "name": "stderr",
     "output_type": "stream",
     "text": [
      "/var/folders/bh/d1qm8bns06vdmp0vfb623dw40000gn/T/ipykernel_730/1999242870.py:3: SettingWithCopyWarning: \n",
      "A value is trying to be set on a copy of a slice from a DataFrame\n",
      "\n",
      "See the caveats in the documentation: https://pandas.pydata.org/pandas-docs/stable/user_guide/indexing.html#returning-a-view-versus-a-copy\n",
      "  deals[\"Sector\"][location] = \"Healthcare\"\n"
     ]
    }
   ],
   "source": [
    "# getting the index of the missing sector category for Welnes and relabelling it as 'healthcare'\n",
    "location = deals[\"Sector\"].isnull().idxmax() \n",
    "deals[\"Sector\"][location] = \"Healthcare\""
   ]
  },
  {
   "cell_type": "code",
   "execution_count": 17,
   "id": "978403e1-88d3-4542-a348-3d11752f9731",
   "metadata": {
    "tags": []
   },
   "outputs": [],
   "source": [
    "# dropping rows with redacted deal info \n",
    "excl = list(deals[deals['Start-up name'] == \"Confidential\"].index)\n",
    "deals = deals.drop(deals.index[excl]).reset_index(drop = True)"
   ]
  },
  {
   "cell_type": "code",
   "execution_count": 18,
   "id": "383a9c61-c1ea-48ae-bd41-f182b69eabeb",
   "metadata": {
    "tags": []
   },
   "outputs": [
    {
     "data": {
      "text/plain": [
       "2\n",
       "Deal Month                                        0\n",
       "Deal Year                                         0\n",
       "Deal Date                                         0\n",
       "Start-up name                                     0\n",
       "Website                                           0\n",
       "Country HQ                                        0\n",
       "Launch                                            0\n",
       "Tweet pitch                                       0\n",
       "Sector                                            0\n",
       "# of Founders                                     0\n",
       "Founder 1 (CEO)                                   0\n",
       "Founder 2                                       359\n",
       "Founder 3                                      1037\n",
       "Founder 4                                      1335\n",
       "CEO - University/School                           1\n",
       "CEO - University/School - Country                 1\n",
       "CEO - University/School - Continent               0\n",
       "CEO Graduation year                               1\n",
       "Years between graduation and startup launch       1\n",
       "Woman co-founder                                  0\n",
       "Woman CEO                                      1080\n",
       "Women only founders                            1081\n",
       "Founders gender mix                               0\n",
       "Amount disclosure                              1115\n",
       "Amount raised $M                                  0\n",
       "Comment                                        1040\n",
       "Bracket                                           0\n",
       "Type                                              0\n",
       "Valuation $M                                   1355\n",
       "1st $M ?                                        859\n",
       "Link to news                                      1\n",
       "Investors                                         0\n",
       "dtype: int64"
      ]
     },
     "execution_count": 18,
     "metadata": {},
     "output_type": "execute_result"
    }
   ],
   "source": [
    "# counting number of null values\n",
    "deals.isnull().sum()"
   ]
  },
  {
   "cell_type": "code",
   "execution_count": 19,
   "id": "46694a10-8f38-4cef-b513-2ccbdeaecd96",
   "metadata": {
    "tags": []
   },
   "outputs": [
    {
     "data": {
      "text/plain": [
       "True"
      ]
     },
     "execution_count": 19,
     "metadata": {},
     "output_type": "execute_result"
    }
   ],
   "source": [
    "# missing values for University and University - Country are for the same deal\n",
    "deals[\"CEO - University/School\"].isnull().idxmax() == deals[\"CEO - University/School - Country\"].isnull().idxmax()"
   ]
  },
  {
   "cell_type": "code",
   "execution_count": 20,
   "id": "51711e3b-c143-4250-8eb0-71d8393fddf6",
   "metadata": {
    "tags": []
   },
   "outputs": [
    {
     "name": "stderr",
     "output_type": "stream",
     "text": [
      "/var/folders/bh/d1qm8bns06vdmp0vfb623dw40000gn/T/ipykernel_730/3671636214.py:3: SettingWithCopyWarning: \n",
      "A value is trying to be set on a copy of a slice from a DataFrame\n",
      "\n",
      "See the caveats in the documentation: https://pandas.pydata.org/pandas-docs/stable/user_guide/indexing.html#returning-a-view-versus-a-copy\n",
      "  deals[\"CEO - University/School\"][location] = \"Federal University Of Agriculture, Abeokuta\"\n",
      "/var/folders/bh/d1qm8bns06vdmp0vfb623dw40000gn/T/ipykernel_730/3671636214.py:4: SettingWithCopyWarning: \n",
      "A value is trying to be set on a copy of a slice from a DataFrame\n",
      "\n",
      "See the caveats in the documentation: https://pandas.pydata.org/pandas-docs/stable/user_guide/indexing.html#returning-a-view-versus-a-copy\n",
      "  deals[\"CEO - University/School - Country\"][location] = \"Nigeria\"\n",
      "/var/folders/bh/d1qm8bns06vdmp0vfb623dw40000gn/T/ipykernel_730/3671636214.py:5: SettingWithCopyWarning: \n",
      "A value is trying to be set on a copy of a slice from a DataFrame\n",
      "\n",
      "See the caveats in the documentation: https://pandas.pydata.org/pandas-docs/stable/user_guide/indexing.html#returning-a-view-versus-a-copy\n",
      "  deals[\"CEO - University/School - Continent\"][location] = \"Africa\"\n"
     ]
    }
   ],
   "source": [
    "# entering in information scraped from LinkedIn to fill empty value\n",
    "location = deals[\"CEO - University/School\"].isnull().idxmax()\n",
    "deals[\"CEO - University/School\"][location] = \"Federal University Of Agriculture, Abeokuta\"\n",
    "deals[\"CEO - University/School - Country\"][location] = \"Nigeria\"\n",
    "deals[\"CEO - University/School - Continent\"][location] = \"Africa\""
   ]
  },
  {
   "cell_type": "markdown",
   "id": "b0cc81a1-0117-4909-abff-59c9f19394e2",
   "metadata": {},
   "source": [
    "### Dropping NA values + changing variable type"
   ]
  },
  {
   "cell_type": "code",
   "execution_count": 21,
   "id": "a0876880-bc7b-441e-ab9e-fa7e07475e1c",
   "metadata": {},
   "outputs": [],
   "source": [
    "# getting rid of n.a. strings in the two fields\n",
    "excl_1 = list(np.unique(list(deals[deals[\"Woman co-founder\"] == 'n.a'].index) + list(deals[deals[\"Amount raised $M\"] == 'n.a'].index)))\n",
    "deals = deals.drop(deals.index[excl_1]).reset_index(drop = True)"
   ]
  },
  {
   "cell_type": "code",
   "execution_count": 22,
   "id": "70301369-9e6f-4346-a80d-8dc76ff0e6fe",
   "metadata": {
    "tags": []
   },
   "outputs": [],
   "source": [
    "# making data fields numeric\n",
    "deals['Amount raised $M'] = pd.to_numeric(deals['Amount raised $M'])\n",
    "deals['Launch'] = pd.to_numeric(deals['Launch'])\n",
    "deals['# of Founders'] = pd.to_numeric(deals['# of Founders'])"
   ]
  },
  {
   "cell_type": "code",
   "execution_count": 23,
   "id": "098dab3b-a33f-4663-aa6d-d7b6b7966b58",
   "metadata": {},
   "outputs": [
    {
     "name": "stdout",
     "output_type": "stream",
     "text": [
      "<class 'pandas.core.frame.DataFrame'>\n",
      "RangeIndex: 1393 entries, 0 to 1392\n",
      "Data columns (total 32 columns):\n",
      " #   Column                                       Non-Null Count  Dtype  \n",
      "---  ------                                       --------------  -----  \n",
      " 0   Deal Month                                   1393 non-null   int64  \n",
      " 1   Deal Year                                    1393 non-null   int64  \n",
      " 2   Deal Date                                    1393 non-null   object \n",
      " 3   Start-up name                                1393 non-null   object \n",
      " 4   Website                                      1393 non-null   object \n",
      " 5   Country HQ                                   1393 non-null   object \n",
      " 6   Launch                                       1393 non-null   int64  \n",
      " 7   Tweet pitch                                  1393 non-null   object \n",
      " 8   Sector                                       1393 non-null   object \n",
      " 9   # of Founders                                1393 non-null   int64  \n",
      " 10  Founder 1 (CEO)                              1393 non-null   object \n",
      " 11  Founder 2                                    1050 non-null   object \n",
      " 12  Founder 3                                    387 non-null    object \n",
      " 13  Founder 4                                    96 non-null     object \n",
      " 14  CEO - University/School                      1393 non-null   object \n",
      " 15  CEO - University/School - Country            1393 non-null   object \n",
      " 16  CEO - University/School - Continent          1393 non-null   object \n",
      " 17  CEO Graduation year                          1392 non-null   object \n",
      " 18  Years between graduation and startup launch  1392 non-null   object \n",
      " 19  Woman co-founder                             1393 non-null   object \n",
      " 20  Woman CEO                                    339 non-null    object \n",
      " 21  Women only founders                          338 non-null    object \n",
      " 22  Founders gender mix                          1393 non-null   object \n",
      " 23  Amount disclosure                            315 non-null    object \n",
      " 24  Amount raised $M                             1393 non-null   float64\n",
      " 25  Comment                                      383 non-null    object \n",
      " 26  Bracket                                      1393 non-null   object \n",
      " 27  Type                                         1393 non-null   object \n",
      " 28  Valuation $M                                 76 non-null     object \n",
      " 29  1st $M ?                                     570 non-null    object \n",
      " 30  Link to news                                 1392 non-null   object \n",
      " 31  Investors                                    1393 non-null   object \n",
      "dtypes: float64(1), int64(4), object(27)\n",
      "memory usage: 348.4+ KB\n"
     ]
    }
   ],
   "source": [
    "deals.info()"
   ]
  },
  {
   "cell_type": "code",
   "execution_count": 24,
   "id": "887ea76d-b48c-4f48-ba43-db723683c47f",
   "metadata": {
    "tags": []
   },
   "outputs": [],
   "source": [
    "# filling in categories using data from founders gender mix\n",
    "deals['Women only founders'] = np.where((deals[\"Founders gender mix\"] == \"Female single founder\") | \n",
    "                                        (deals[\"Founders gender mix\"] == \"Female-only founding team\") &\n",
    "                                        (deals['Women only founders'] == ''), \"Women only founders\",\n",
    "                                        deals['Women only founders'])"
   ]
  },
  {
   "cell_type": "code",
   "execution_count": 25,
   "id": "992d7d5b-18fa-4d06-8bd9-17289c5497d4",
   "metadata": {},
   "outputs": [],
   "source": [
    "# filling in NA values as no\n",
    "deals['Women only founders'] = np.where((deals[\"Women only founders\"] != 'No') & \n",
    "                                        (deals[\"Women only founders\"] != 'Women only founders'), \n",
    "                                        'No', deals[\"Women only founders\"])\n",
    "\n",
    "deals['Woman CEO'] = np.where((deals[\"Woman CEO\"] != 'No') & \n",
    "                                        (deals[\"Woman CEO\"] != 'Woman CEO'), \n",
    "                                        'No', deals[\"Woman CEO\"])"
   ]
  },
  {
   "cell_type": "code",
   "execution_count": 26,
   "id": "368fa5e0-0059-4369-9f18-654881e3b833",
   "metadata": {},
   "outputs": [],
   "source": [
    "# getting rid of extraneous levels in the gender mix variable\n",
    "deals['Founders gender mix'] = np.where((deals[\"Founders gender mix\"] == 'Male-only founding team') | \n",
    "                                        (deals[\"Founders gender mix\"] == 'Male single founder'),\n",
    "                                       'Male-only founding team', deals['Founders gender mix'])\n",
    "\n",
    "deals['Founders gender mix'] = np.where((deals[\"Founders gender mix\"] == 'Female single founder') | \n",
    "                                        (deals[\"Founders gender mix\"] == 'Female-only founding team'),\n",
    "                                       'Female-only founding team', deals['Founders gender mix'])"
   ]
  },
  {
   "cell_type": "code",
   "execution_count": 27,
   "id": "83a05121-7a33-4ac0-ad4b-205a08e9a568",
   "metadata": {},
   "outputs": [],
   "source": [
    "# startups with Country HQ listed as Africa are based overseas\n",
    "np.unique(deals[deals['Country HQ'] == 'Africa']['Start-up name'])\n",
    "\n",
    "# changing Africa category in Country HQ to Overseas\n",
    "deals['Country HQ'] = np.where((deals['Country HQ'] == 'Africa'), 'Overseas', deals['Country HQ'])"
   ]
  },
  {
   "cell_type": "code",
   "execution_count": 28,
   "id": "1c659a30-a921-4b2d-b354-365885514141",
   "metadata": {},
   "outputs": [],
   "source": [
    "# fixing category levels in type variable\n",
    "deals['Type'] = np.where((deals['Type'] == 'Venture round'), 'Venture Round', deals['Type'])\n",
    "deals['Type'] = np.where((deals['Type'] == 'Pre-seed'), 'Pre-Seed', deals['Type'])\n",
    "deals['Type'] = np.where((deals['Type'] == 'Pre-series A'), 'Pre-Series A', deals['Type'])\n",
    "deals['Type'] = np.where((deals['Type'] == 'Pre-series B'), 'Pre-Series B', deals['Type'])"
   ]
  },
  {
   "cell_type": "code",
   "execution_count": 29,
   "id": "97e34509-ab86-4e63-a466-be4c8bb3c670",
   "metadata": {},
   "outputs": [],
   "source": [
    "# dropping rows with n.a in CEO - University/School - Continent\n",
    "excl_2 = list(deals[deals['CEO - University/School - Continent'] == 'n.a'].index)\n",
    "deals = deals.drop(deals.index[excl_2]).reset_index(drop = True)"
   ]
  },
  {
   "cell_type": "code",
   "execution_count": 30,
   "id": "3f378a4f-49e3-46b3-8480-35959893d8aa",
   "metadata": {},
   "outputs": [],
   "source": [
    "# dropping rows with n.a in Years between graduation and startup launch\n",
    "excl_3 = list(deals[deals['Years between graduation and startup launch'] == 'n.a'].index)\n",
    "deals = deals.drop(deals.index[excl_3]).reset_index(drop = True)"
   ]
  },
  {
   "cell_type": "code",
   "execution_count": 31,
   "id": "df80f73c-6b12-454d-bd2b-885fcaa39a6c",
   "metadata": {},
   "outputs": [
    {
     "data": {
      "text/plain": [
       "$100K-$500K    0.348739\n",
       "$1M-$2M        0.180672\n",
       "$2M-$5M        0.145378\n",
       "$500K-$1M      0.128571\n",
       "$10M-$50M      0.101681\n",
       "$5M-$10M       0.069748\n",
       "$50M-$100M     0.013445\n",
       "$100M+         0.011765\n",
       "Name: Bracket, dtype: float64"
      ]
     },
     "execution_count": 31,
     "metadata": {},
     "output_type": "execute_result"
    }
   ],
   "source": [
    "# deal brackets after data cleaning\n",
    "deals[\"Bracket\"].value_counts(normalize = True)"
   ]
  },
  {
   "cell_type": "code",
   "execution_count": 32,
   "id": "e25347a9-982c-4f0c-9031-28ba050c2f0d",
   "metadata": {},
   "outputs": [
    {
     "data": {
      "text/plain": [
       "$100K-$500K    0.345865\n",
       "$1M-$2M        0.173616\n",
       "$2M-$5M        0.142174\n",
       "$500K-$1M      0.129187\n",
       "$10M-$50M      0.096377\n",
       "$5M-$10M       0.064252\n",
       "n.a            0.020506\n",
       "$100M+         0.014354\n",
       "$50M-$100M     0.013671\n",
       "Name: Bracket, dtype: float64"
      ]
     },
     "execution_count": 32,
     "metadata": {},
     "output_type": "execute_result"
    }
   ],
   "source": [
    "# deal brackets before data cleaning\n",
    "# not a huge difference between the two\n",
    "comp"
   ]
  },
  {
   "cell_type": "code",
   "execution_count": 33,
   "id": "11f18e7e-b846-4d3f-afcc-481b5ee4d489",
   "metadata": {},
   "outputs": [],
   "source": [
    "# write file to excel\n",
    "deals.to_excel(\"deals.xlsx\")"
   ]
  },
  {
   "cell_type": "code",
   "execution_count": 34,
   "id": "a9b67d53-fefa-4c5f-b0f2-ecc638d614fc",
   "metadata": {},
   "outputs": [],
   "source": [
    "# writing dataset that removes outliers\n",
    "sd = np.std(deals['Amount raised $M'])\n",
    "mean = np.mean(deals['Amount raised $M'])\n",
    "\n",
    "upper_bound = mean + (3 * sd) # filtering out obs 3 s.d. from the mean\n",
    "lower_bound = mean - (3 * sd)\n",
    "\n",
    "deals_clean = deals[(deals['Amount raised $M'] > lower_bound) & (deals['Amount raised $M'] < upper_bound)].reset_index()\n",
    "\n",
    "# write file to excel\n",
    "deals_clean.to_excel(\"deals_clean.xlsx\")"
   ]
  },
  {
   "cell_type": "code",
   "execution_count": 35,
   "id": "01c32636-4ea3-4b25-8498-8ed161a426e8",
   "metadata": {},
   "outputs": [
    {
     "data": {
      "text/plain": [
       "(1167, 33)"
      ]
     },
     "execution_count": 35,
     "metadata": {},
     "output_type": "execute_result"
    }
   ],
   "source": [
    "deals_clean.shape"
   ]
  },
  {
   "cell_type": "code",
   "execution_count": 36,
   "id": "d004e6be-6f51-4ed0-bc15-c62b9058e048",
   "metadata": {},
   "outputs": [
    {
     "data": {
      "text/plain": [
       "(1190, 32)"
      ]
     },
     "execution_count": 36,
     "metadata": {},
     "output_type": "execute_result"
    }
   ],
   "source": [
    "deals.shape"
   ]
  },
  {
   "cell_type": "code",
   "execution_count": 37,
   "id": "de919229-9f69-4866-b937-ce7d87fab844",
   "metadata": {},
   "outputs": [
    {
     "data": {
      "text/html": [
       "<div>\n",
       "<style scoped>\n",
       "    .dataframe tbody tr th:only-of-type {\n",
       "        vertical-align: middle;\n",
       "    }\n",
       "\n",
       "    .dataframe tbody tr th {\n",
       "        vertical-align: top;\n",
       "    }\n",
       "\n",
       "    .dataframe thead th {\n",
       "        text-align: right;\n",
       "    }\n",
       "</style>\n",
       "<table border=\"1\" class=\"dataframe\">\n",
       "  <thead>\n",
       "    <tr style=\"text-align: right;\">\n",
       "      <th>2</th>\n",
       "      <th>index</th>\n",
       "      <th>Deal Month</th>\n",
       "      <th>Deal Year</th>\n",
       "      <th>Launch</th>\n",
       "      <th># of Founders</th>\n",
       "      <th>Amount raised $M</th>\n",
       "    </tr>\n",
       "  </thead>\n",
       "  <tbody>\n",
       "    <tr>\n",
       "      <th>count</th>\n",
       "      <td>1167.000000</td>\n",
       "      <td>1167.000000</td>\n",
       "      <td>1167.000000</td>\n",
       "      <td>1167.000000</td>\n",
       "      <td>1167.000000</td>\n",
       "      <td>1167.000000</td>\n",
       "    </tr>\n",
       "    <tr>\n",
       "      <th>mean</th>\n",
       "      <td>593.379606</td>\n",
       "      <td>6.155955</td>\n",
       "      <td>2020.823479</td>\n",
       "      <td>2016.828620</td>\n",
       "      <td>2.109683</td>\n",
       "      <td>3.746015</td>\n",
       "    </tr>\n",
       "    <tr>\n",
       "      <th>std</th>\n",
       "      <td>343.397050</td>\n",
       "      <td>3.637476</td>\n",
       "      <td>0.809271</td>\n",
       "      <td>3.205073</td>\n",
       "      <td>0.846727</td>\n",
       "      <td>8.041556</td>\n",
       "    </tr>\n",
       "    <tr>\n",
       "      <th>min</th>\n",
       "      <td>1.000000</td>\n",
       "      <td>1.000000</td>\n",
       "      <td>2019.000000</td>\n",
       "      <td>2000.000000</td>\n",
       "      <td>1.000000</td>\n",
       "      <td>0.100000</td>\n",
       "    </tr>\n",
       "    <tr>\n",
       "      <th>25%</th>\n",
       "      <td>296.500000</td>\n",
       "      <td>3.000000</td>\n",
       "      <td>2020.000000</td>\n",
       "      <td>2015.000000</td>\n",
       "      <td>2.000000</td>\n",
       "      <td>0.200000</td>\n",
       "    </tr>\n",
       "    <tr>\n",
       "      <th>50%</th>\n",
       "      <td>592.000000</td>\n",
       "      <td>6.000000</td>\n",
       "      <td>2021.000000</td>\n",
       "      <td>2018.000000</td>\n",
       "      <td>2.000000</td>\n",
       "      <td>1.000000</td>\n",
       "    </tr>\n",
       "    <tr>\n",
       "      <th>75%</th>\n",
       "      <td>891.500000</td>\n",
       "      <td>10.000000</td>\n",
       "      <td>2021.000000</td>\n",
       "      <td>2019.000000</td>\n",
       "      <td>3.000000</td>\n",
       "      <td>3.000000</td>\n",
       "    </tr>\n",
       "    <tr>\n",
       "      <th>max</th>\n",
       "      <td>1189.000000</td>\n",
       "      <td>12.000000</td>\n",
       "      <td>2022.000000</td>\n",
       "      <td>2022.000000</td>\n",
       "      <td>4.000000</td>\n",
       "      <td>65.000000</td>\n",
       "    </tr>\n",
       "  </tbody>\n",
       "</table>\n",
       "</div>"
      ],
      "text/plain": [
       "2            index   Deal Month    Deal Year       Launch  # of Founders  \\\n",
       "count  1167.000000  1167.000000  1167.000000  1167.000000    1167.000000   \n",
       "mean    593.379606     6.155955  2020.823479  2016.828620       2.109683   \n",
       "std     343.397050     3.637476     0.809271     3.205073       0.846727   \n",
       "min       1.000000     1.000000  2019.000000  2000.000000       1.000000   \n",
       "25%     296.500000     3.000000  2020.000000  2015.000000       2.000000   \n",
       "50%     592.000000     6.000000  2021.000000  2018.000000       2.000000   \n",
       "75%     891.500000    10.000000  2021.000000  2019.000000       3.000000   \n",
       "max    1189.000000    12.000000  2022.000000  2022.000000       4.000000   \n",
       "\n",
       "2      Amount raised $M  \n",
       "count       1167.000000  \n",
       "mean           3.746015  \n",
       "std            8.041556  \n",
       "min            0.100000  \n",
       "25%            0.200000  \n",
       "50%            1.000000  \n",
       "75%            3.000000  \n",
       "max           65.000000  "
      ]
     },
     "execution_count": 37,
     "metadata": {},
     "output_type": "execute_result"
    }
   ],
   "source": [
    "deals_clean.describe()"
   ]
  },
  {
   "cell_type": "code",
   "execution_count": 38,
   "id": "79d0a180-f14d-4a7d-ad87-28e5e625b673",
   "metadata": {},
   "outputs": [
    {
     "data": {
      "text/html": [
       "<div>\n",
       "<style scoped>\n",
       "    .dataframe tbody tr th:only-of-type {\n",
       "        vertical-align: middle;\n",
       "    }\n",
       "\n",
       "    .dataframe tbody tr th {\n",
       "        vertical-align: top;\n",
       "    }\n",
       "\n",
       "    .dataframe thead th {\n",
       "        text-align: right;\n",
       "    }\n",
       "</style>\n",
       "<table border=\"1\" class=\"dataframe\">\n",
       "  <thead>\n",
       "    <tr style=\"text-align: right;\">\n",
       "      <th>2</th>\n",
       "      <th>Deal Month</th>\n",
       "      <th>Deal Year</th>\n",
       "      <th>Launch</th>\n",
       "      <th># of Founders</th>\n",
       "      <th>Amount raised $M</th>\n",
       "    </tr>\n",
       "  </thead>\n",
       "  <tbody>\n",
       "    <tr>\n",
       "      <th>count</th>\n",
       "      <td>1190.000000</td>\n",
       "      <td>1190.000000</td>\n",
       "      <td>1190.000000</td>\n",
       "      <td>1190.000000</td>\n",
       "      <td>1190.000000</td>\n",
       "    </tr>\n",
       "    <tr>\n",
       "      <th>mean</th>\n",
       "      <td>6.157983</td>\n",
       "      <td>2020.825210</td>\n",
       "      <td>2016.744538</td>\n",
       "      <td>2.119328</td>\n",
       "      <td>6.108908</td>\n",
       "    </tr>\n",
       "    <tr>\n",
       "      <th>std</th>\n",
       "      <td>3.640523</td>\n",
       "      <td>0.809762</td>\n",
       "      <td>3.284177</td>\n",
       "      <td>0.849011</td>\n",
       "      <td>20.460387</td>\n",
       "    </tr>\n",
       "    <tr>\n",
       "      <th>min</th>\n",
       "      <td>1.000000</td>\n",
       "      <td>2019.000000</td>\n",
       "      <td>2000.000000</td>\n",
       "      <td>1.000000</td>\n",
       "      <td>0.100000</td>\n",
       "    </tr>\n",
       "    <tr>\n",
       "      <th>25%</th>\n",
       "      <td>3.000000</td>\n",
       "      <td>2020.250000</td>\n",
       "      <td>2015.000000</td>\n",
       "      <td>2.000000</td>\n",
       "      <td>0.200000</td>\n",
       "    </tr>\n",
       "    <tr>\n",
       "      <th>50%</th>\n",
       "      <td>6.000000</td>\n",
       "      <td>2021.000000</td>\n",
       "      <td>2017.000000</td>\n",
       "      <td>2.000000</td>\n",
       "      <td>1.000000</td>\n",
       "    </tr>\n",
       "    <tr>\n",
       "      <th>75%</th>\n",
       "      <td>10.000000</td>\n",
       "      <td>2021.000000</td>\n",
       "      <td>2019.000000</td>\n",
       "      <td>3.000000</td>\n",
       "      <td>3.200000</td>\n",
       "    </tr>\n",
       "    <tr>\n",
       "      <th>max</th>\n",
       "      <td>12.000000</td>\n",
       "      <td>2022.000000</td>\n",
       "      <td>2022.000000</td>\n",
       "      <td>4.000000</td>\n",
       "      <td>288.000000</td>\n",
       "    </tr>\n",
       "  </tbody>\n",
       "</table>\n",
       "</div>"
      ],
      "text/plain": [
       "2       Deal Month    Deal Year       Launch  # of Founders  Amount raised $M\n",
       "count  1190.000000  1190.000000  1190.000000    1190.000000       1190.000000\n",
       "mean      6.157983  2020.825210  2016.744538       2.119328          6.108908\n",
       "std       3.640523     0.809762     3.284177       0.849011         20.460387\n",
       "min       1.000000  2019.000000  2000.000000       1.000000          0.100000\n",
       "25%       3.000000  2020.250000  2015.000000       2.000000          0.200000\n",
       "50%       6.000000  2021.000000  2017.000000       2.000000          1.000000\n",
       "75%      10.000000  2021.000000  2019.000000       3.000000          3.200000\n",
       "max      12.000000  2022.000000  2022.000000       4.000000        288.000000"
      ]
     },
     "execution_count": 38,
     "metadata": {},
     "output_type": "execute_result"
    }
   ],
   "source": [
    "deals.describe()"
   ]
  }
 ],
 "metadata": {
  "kernelspec": {
   "display_name": "Python 3 (ipykernel)",
   "language": "python",
   "name": "python3"
  },
  "language_info": {
   "codemirror_mode": {
    "name": "ipython",
    "version": 3
   },
   "file_extension": ".py",
   "mimetype": "text/x-python",
   "name": "python",
   "nbconvert_exporter": "python",
   "pygments_lexer": "ipython3",
   "version": "3.9.7"
  }
 },
 "nbformat": 4,
 "nbformat_minor": 5
}
