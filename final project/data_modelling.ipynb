{
 "cells": [
  {
   "cell_type": "markdown",
   "id": "f549751f-bf70-4316-8d97-35925912ed9b",
   "metadata": {},
   "source": [
    "# Data Modelling for African Startup Deals Data \n",
    "\n",
    "Building a model that predicts the size of funding rounds by African tech startups based on a set of selected factors.\n",
    "\n",
    "__Data__: [Africa: The Big Deal Startup Deals Database, March 2022 release by Max Cuvellier and Maxime Bayen.](https://thebigdeal.gumroad.com/membership)\n",
    "\n",
    "__Note:__ For 2020, the database only captures deals of USD 500,000 or more for 2020 and deals of over USD 1 million for 2019.\n"
   ]
  },
  {
   "cell_type": "code",
   "execution_count": 1,
   "id": "92268625-ad38-410e-8467-4bd1fa782de4",
   "metadata": {},
   "outputs": [],
   "source": [
    "import pandas as pd\n",
    "import numpy as np\n",
    "import seaborn as sns\n",
    "import matplotlib.pyplot as plt\n",
    "import statsmodels.api as sm\n",
    "\n",
    "from sklearn.model_selection import GridSearchCV, train_test_split, cross_val_score\n",
    "from sklearn.feature_extraction.text import CountVectorizer, TfidfVectorizer\n",
    "from sklearn.linear_model import LinearRegression, HuberRegressor\n",
    "from sklearn.neighbors import KNeighborsRegressor\n",
    "from sklearn.ensemble import RandomForestRegressor, VotingRegressor\n",
    "from sklearn.tree import DecisionTreeRegressor\n",
    "from sklearn.pipeline import make_pipeline, Pipeline\n",
    "from sklearn.impute import SimpleImputer\n",
    "from sklearn.preprocessing import OneHotEncoder, StandardScaler\n",
    "from sklearn.compose import ColumnTransformer, make_column_transformer\n",
    "from sklearn.metrics import mean_squared_error\n",
    "\n",
    "import tensorflow as tf\n",
    "from keras.models import Sequential\n",
    "from keras.layers import Dense"
   ]
  },
  {
   "cell_type": "code",
   "execution_count": 2,
   "id": "26640d62-41a6-4758-b777-11950a7f57c3",
   "metadata": {},
   "outputs": [],
   "source": [
    "# loading data and formatting date object\n",
    "deals = pd.read_excel(\"final project/deals_clean.xlsx\", index_col=0)\n",
    "deals['Deal Date'] = pd.to_datetime(deals['Deal Date']).dt.strftime('%Y-%m')"
   ]
  },
  {
   "cell_type": "code",
   "execution_count": 3,
   "id": "e37a4867-7088-4f04-9181-25e3532daf21",
   "metadata": {},
   "outputs": [],
   "source": [
    "# making woman ceo variable binary\n",
    "deals['Woman CEO'] = np.where(deals['Woman CEO'] == 'No', 0, 1)"
   ]
  },
  {
   "cell_type": "code",
   "execution_count": 4,
   "id": "4c466e1a-701f-4784-9755-7aee5269bda6",
   "metadata": {},
   "outputs": [
    {
     "data": {
      "text/html": [
       "<div>\n",
       "<style scoped>\n",
       "    .dataframe tbody tr th:only-of-type {\n",
       "        vertical-align: middle;\n",
       "    }\n",
       "\n",
       "    .dataframe tbody tr th {\n",
       "        vertical-align: top;\n",
       "    }\n",
       "\n",
       "    .dataframe thead th {\n",
       "        text-align: right;\n",
       "    }\n",
       "</style>\n",
       "<table border=\"1\" class=\"dataframe\">\n",
       "  <thead>\n",
       "    <tr style=\"text-align: right;\">\n",
       "      <th></th>\n",
       "      <th>index</th>\n",
       "      <th>Deal Month</th>\n",
       "      <th>Deal Year</th>\n",
       "      <th>Deal Date</th>\n",
       "      <th>Start-up name</th>\n",
       "      <th>Website</th>\n",
       "      <th>Country HQ</th>\n",
       "      <th>Launch</th>\n",
       "      <th>Tweet pitch</th>\n",
       "      <th>Sector</th>\n",
       "      <th>...</th>\n",
       "      <th>Founders gender mix</th>\n",
       "      <th>Amount disclosure</th>\n",
       "      <th>Amount raised $M</th>\n",
       "      <th>Comment</th>\n",
       "      <th>Bracket</th>\n",
       "      <th>Type</th>\n",
       "      <th>Valuation $M</th>\n",
       "      <th>1st $M ?</th>\n",
       "      <th>Link to news</th>\n",
       "      <th>Investors</th>\n",
       "    </tr>\n",
       "  </thead>\n",
       "  <tbody>\n",
       "    <tr>\n",
       "      <th>0</th>\n",
       "      <td>1</td>\n",
       "      <td>1</td>\n",
       "      <td>2019</td>\n",
       "      <td>2019-01</td>\n",
       "      <td>Bbox</td>\n",
       "      <td>https://www.bboxx.co.uk/</td>\n",
       "      <td>Overseas</td>\n",
       "      <td>2010</td>\n",
       "      <td>Plug &amp; play systems to power off-grid areas</td>\n",
       "      <td>Energy &amp; Water</td>\n",
       "      <td>...</td>\n",
       "      <td>Male-only founding team</td>\n",
       "      <td>NaN</td>\n",
       "      <td>31.0</td>\n",
       "      <td>NaN</td>\n",
       "      <td>$10M-$50M</td>\n",
       "      <td>Venture Round</td>\n",
       "      <td>NaN</td>\n",
       "      <td>No</td>\n",
       "      <td>https://mercomindia.com/aiim-invest-31-million...</td>\n",
       "      <td>Africa Infrastructure Investment Managers</td>\n",
       "    </tr>\n",
       "    <tr>\n",
       "      <th>1</th>\n",
       "      <td>2</td>\n",
       "      <td>1</td>\n",
       "      <td>2019</td>\n",
       "      <td>2019-01</td>\n",
       "      <td>Copia</td>\n",
       "      <td>https://copiaglobal.com/corporate/</td>\n",
       "      <td>Kenya</td>\n",
       "      <td>2010</td>\n",
       "      <td>Consumer catalog order and delivery system for...</td>\n",
       "      <td>Retail</td>\n",
       "      <td>...</td>\n",
       "      <td>Gender-diverse founding team</td>\n",
       "      <td>NaN</td>\n",
       "      <td>2.0</td>\n",
       "      <td>NaN</td>\n",
       "      <td>$2M-$5M</td>\n",
       "      <td>Series A</td>\n",
       "      <td>NaN</td>\n",
       "      <td>No</td>\n",
       "      <td>https://disrupt-africa.com/2019/01/goodwell-in...</td>\n",
       "      <td>Goodwell Investments</td>\n",
       "    </tr>\n",
       "    <tr>\n",
       "      <th>2</th>\n",
       "      <td>3</td>\n",
       "      <td>1</td>\n",
       "      <td>2019</td>\n",
       "      <td>2019-01</td>\n",
       "      <td>Flow</td>\n",
       "      <td>https://flow.rent/</td>\n",
       "      <td>South Africa</td>\n",
       "      <td>2018</td>\n",
       "      <td>Online platform targeted at tenants of residen...</td>\n",
       "      <td>Housing</td>\n",
       "      <td>...</td>\n",
       "      <td>Male-only founding team</td>\n",
       "      <td>NaN</td>\n",
       "      <td>1.5</td>\n",
       "      <td>NaN</td>\n",
       "      <td>$1M-$2M</td>\n",
       "      <td>Seed</td>\n",
       "      <td>NaN</td>\n",
       "      <td>Yes</td>\n",
       "      <td>http://disrupt-africa.com/2019/01/sa-property-...</td>\n",
       "      <td>Kalon Venture Partners, CRE Venture Capital</td>\n",
       "    </tr>\n",
       "    <tr>\n",
       "      <th>3</th>\n",
       "      <td>4</td>\n",
       "      <td>1</td>\n",
       "      <td>2019</td>\n",
       "      <td>2019-01</td>\n",
       "      <td>M-Tiba</td>\n",
       "      <td>https://m-tiba.co.ke/</td>\n",
       "      <td>Kenya</td>\n",
       "      <td>2015</td>\n",
       "      <td>Mobile payment wallet for healthcare services</td>\n",
       "      <td>Healthcare</td>\n",
       "      <td>...</td>\n",
       "      <td>Male-only founding team</td>\n",
       "      <td>NaN</td>\n",
       "      <td>1.5</td>\n",
       "      <td>NaN</td>\n",
       "      <td>$1M-$2M</td>\n",
       "      <td>Seed</td>\n",
       "      <td>NaN</td>\n",
       "      <td>Yes</td>\n",
       "      <td>https://kenyanwallstreet.com/m-tiba-receives-1...</td>\n",
       "      <td>Agence Francaise de Developpement (AFD)</td>\n",
       "    </tr>\n",
       "    <tr>\n",
       "      <th>4</th>\n",
       "      <td>5</td>\n",
       "      <td>1</td>\n",
       "      <td>2019</td>\n",
       "      <td>2019-01</td>\n",
       "      <td>Pura Beverage</td>\n",
       "      <td>https://www.purabeverageco.com/</td>\n",
       "      <td>South Africa</td>\n",
       "      <td>2016</td>\n",
       "      <td>Pura Soda manufactures, distributes, markets a...</td>\n",
       "      <td>Retail</td>\n",
       "      <td>...</td>\n",
       "      <td>Male-only founding team</td>\n",
       "      <td>Estimation</td>\n",
       "      <td>1.0</td>\n",
       "      <td>$1M+ but exact amount not disclosed publicly</td>\n",
       "      <td>$1M-$2M</td>\n",
       "      <td>Series A</td>\n",
       "      <td>NaN</td>\n",
       "      <td>Yes</td>\n",
       "      <td>https://weetracker.com/2019/02/12/south-africa...</td>\n",
       "      <td>Knife Capital</td>\n",
       "    </tr>\n",
       "  </tbody>\n",
       "</table>\n",
       "<p>5 rows × 33 columns</p>\n",
       "</div>"
      ],
      "text/plain": [
       "   index  Deal Month  Deal Year Deal Date  Start-up name  \\\n",
       "0      1           1       2019   2019-01           Bbox   \n",
       "1      2           1       2019   2019-01          Copia   \n",
       "2      3           1       2019   2019-01           Flow   \n",
       "3      4           1       2019   2019-01         M-Tiba   \n",
       "4      5           1       2019   2019-01  Pura Beverage   \n",
       "\n",
       "                              Website    Country HQ  Launch  \\\n",
       "0            https://www.bboxx.co.uk/      Overseas    2010   \n",
       "1  https://copiaglobal.com/corporate/         Kenya    2010   \n",
       "2                  https://flow.rent/  South Africa    2018   \n",
       "3               https://m-tiba.co.ke/         Kenya    2015   \n",
       "4     https://www.purabeverageco.com/  South Africa    2016   \n",
       "\n",
       "                                         Tweet pitch          Sector  ...  \\\n",
       "0        Plug & play systems to power off-grid areas  Energy & Water  ...   \n",
       "1  Consumer catalog order and delivery system for...          Retail  ...   \n",
       "2  Online platform targeted at tenants of residen...         Housing  ...   \n",
       "3      Mobile payment wallet for healthcare services      Healthcare  ...   \n",
       "4  Pura Soda manufactures, distributes, markets a...          Retail  ...   \n",
       "\n",
       "            Founders gender mix Amount disclosure Amount raised $M  \\\n",
       "0       Male-only founding team               NaN             31.0   \n",
       "1  Gender-diverse founding team               NaN              2.0   \n",
       "2       Male-only founding team               NaN              1.5   \n",
       "3       Male-only founding team               NaN              1.5   \n",
       "4       Male-only founding team        Estimation              1.0   \n",
       "\n",
       "                                        Comment    Bracket           Type  \\\n",
       "0                                           NaN  $10M-$50M  Venture Round   \n",
       "1                                           NaN    $2M-$5M       Series A   \n",
       "2                                           NaN    $1M-$2M           Seed   \n",
       "3                                           NaN    $1M-$2M           Seed   \n",
       "4  $1M+ but exact amount not disclosed publicly    $1M-$2M       Series A   \n",
       "\n",
       "  Valuation $M 1st $M ?                                       Link to news  \\\n",
       "0          NaN       No  https://mercomindia.com/aiim-invest-31-million...   \n",
       "1          NaN       No  https://disrupt-africa.com/2019/01/goodwell-in...   \n",
       "2          NaN      Yes  http://disrupt-africa.com/2019/01/sa-property-...   \n",
       "3          NaN      Yes  https://kenyanwallstreet.com/m-tiba-receives-1...   \n",
       "4          NaN      Yes  https://weetracker.com/2019/02/12/south-africa...   \n",
       "\n",
       "                                     Investors  \n",
       "0    Africa Infrastructure Investment Managers  \n",
       "1                         Goodwell Investments  \n",
       "2  Kalon Venture Partners, CRE Venture Capital  \n",
       "3      Agence Francaise de Developpement (AFD)  \n",
       "4                                Knife Capital  \n",
       "\n",
       "[5 rows x 33 columns]"
      ]
     },
     "execution_count": 4,
     "metadata": {},
     "output_type": "execute_result"
    }
   ],
   "source": [
    "deals.head()"
   ]
  },
  {
   "cell_type": "code",
   "execution_count": 5,
   "id": "941d94f4-1e1d-44d5-93e9-129d17e55e31",
   "metadata": {},
   "outputs": [],
   "source": [
    "# filtering out independent variables...\n",
    "X = deals[['Deal Year', 'Country HQ', 'Sector', 'CEO - University/School - Continent',\n",
    "          'Years between graduation and startup launch', 'Woman CEO', 'Founders gender mix', 'Type',\n",
    "          '# of Founders']]\n",
    "\n",
    "# ...and dependent variables\n",
    "y = deals['Amount raised $M']"
   ]
  },
  {
   "cell_type": "code",
   "execution_count": 6,
   "id": "564fc25e-6890-43c2-93b2-85a0e3c3cf96",
   "metadata": {},
   "outputs": [
    {
     "data": {
      "text/html": [
       "<div>\n",
       "<style scoped>\n",
       "    .dataframe tbody tr th:only-of-type {\n",
       "        vertical-align: middle;\n",
       "    }\n",
       "\n",
       "    .dataframe tbody tr th {\n",
       "        vertical-align: top;\n",
       "    }\n",
       "\n",
       "    .dataframe thead th {\n",
       "        text-align: right;\n",
       "    }\n",
       "</style>\n",
       "<table border=\"1\" class=\"dataframe\">\n",
       "  <thead>\n",
       "    <tr style=\"text-align: right;\">\n",
       "      <th></th>\n",
       "      <th>Deal Year</th>\n",
       "      <th>Country HQ</th>\n",
       "      <th>Sector</th>\n",
       "      <th>CEO - University/School - Continent</th>\n",
       "      <th>Years between graduation and startup launch</th>\n",
       "      <th>Woman CEO</th>\n",
       "      <th>Founders gender mix</th>\n",
       "      <th>Type</th>\n",
       "      <th># of Founders</th>\n",
       "    </tr>\n",
       "  </thead>\n",
       "  <tbody>\n",
       "    <tr>\n",
       "      <th>0</th>\n",
       "      <td>2019</td>\n",
       "      <td>Overseas</td>\n",
       "      <td>Energy &amp; Water</td>\n",
       "      <td>Europe</td>\n",
       "      <td>0.0</td>\n",
       "      <td>0</td>\n",
       "      <td>Male-only founding team</td>\n",
       "      <td>Venture Round</td>\n",
       "      <td>3</td>\n",
       "    </tr>\n",
       "    <tr>\n",
       "      <th>1</th>\n",
       "      <td>2019</td>\n",
       "      <td>Kenya</td>\n",
       "      <td>Retail</td>\n",
       "      <td>North America</td>\n",
       "      <td>5.0</td>\n",
       "      <td>0</td>\n",
       "      <td>Gender-diverse founding team</td>\n",
       "      <td>Series A</td>\n",
       "      <td>2</td>\n",
       "    </tr>\n",
       "    <tr>\n",
       "      <th>2</th>\n",
       "      <td>2019</td>\n",
       "      <td>South Africa</td>\n",
       "      <td>Housing</td>\n",
       "      <td>Africa</td>\n",
       "      <td>12.0</td>\n",
       "      <td>0</td>\n",
       "      <td>Male-only founding team</td>\n",
       "      <td>Seed</td>\n",
       "      <td>3</td>\n",
       "    </tr>\n",
       "    <tr>\n",
       "      <th>3</th>\n",
       "      <td>2019</td>\n",
       "      <td>Kenya</td>\n",
       "      <td>Healthcare</td>\n",
       "      <td>Europe</td>\n",
       "      <td>18.0</td>\n",
       "      <td>0</td>\n",
       "      <td>Male-only founding team</td>\n",
       "      <td>Seed</td>\n",
       "      <td>1</td>\n",
       "    </tr>\n",
       "    <tr>\n",
       "      <th>4</th>\n",
       "      <td>2019</td>\n",
       "      <td>South Africa</td>\n",
       "      <td>Retail</td>\n",
       "      <td>Africa</td>\n",
       "      <td>13.0</td>\n",
       "      <td>0</td>\n",
       "      <td>Male-only founding team</td>\n",
       "      <td>Series A</td>\n",
       "      <td>1</td>\n",
       "    </tr>\n",
       "  </tbody>\n",
       "</table>\n",
       "</div>"
      ],
      "text/plain": [
       "   Deal Year    Country HQ          Sector  \\\n",
       "0       2019      Overseas  Energy & Water   \n",
       "1       2019         Kenya          Retail   \n",
       "2       2019  South Africa         Housing   \n",
       "3       2019         Kenya      Healthcare   \n",
       "4       2019  South Africa          Retail   \n",
       "\n",
       "  CEO - University/School - Continent  \\\n",
       "0                              Europe   \n",
       "1                       North America   \n",
       "2                              Africa   \n",
       "3                              Europe   \n",
       "4                              Africa   \n",
       "\n",
       "   Years between graduation and startup launch  Woman CEO  \\\n",
       "0                                          0.0          0   \n",
       "1                                          5.0          0   \n",
       "2                                         12.0          0   \n",
       "3                                         18.0          0   \n",
       "4                                         13.0          0   \n",
       "\n",
       "            Founders gender mix           Type  # of Founders  \n",
       "0       Male-only founding team  Venture Round              3  \n",
       "1  Gender-diverse founding team       Series A              2  \n",
       "2       Male-only founding team           Seed              3  \n",
       "3       Male-only founding team           Seed              1  \n",
       "4       Male-only founding team       Series A              1  "
      ]
     },
     "execution_count": 6,
     "metadata": {},
     "output_type": "execute_result"
    }
   ],
   "source": [
    "X.head()"
   ]
  },
  {
   "cell_type": "code",
   "execution_count": 7,
   "id": "020decf0-73ea-4248-8f27-3b80633f655f",
   "metadata": {},
   "outputs": [],
   "source": [
    "# making dummy variables\n",
    "# prefix=['Deal Year', 'Country HQ', 'Sector', 'CEO - University/School - Continent', 'Founders gender mix', 'Type']\n",
    "X_binary = pd.get_dummies(X,columns=['Deal Year', 'Country HQ', 'Sector', \n",
    "                                     'CEO - University/School - Continent', 'Founders gender mix', 'Type'],\n",
    "                          drop_first=True)"
   ]
  },
  {
   "cell_type": "code",
   "execution_count": 8,
   "id": "2de0b75d-a6f7-4b54-a11b-67d7af4b9649",
   "metadata": {
    "tags": []
   },
   "outputs": [
    {
     "data": {
      "text/html": [
       "<div>\n",
       "<style scoped>\n",
       "    .dataframe tbody tr th:only-of-type {\n",
       "        vertical-align: middle;\n",
       "    }\n",
       "\n",
       "    .dataframe tbody tr th {\n",
       "        vertical-align: top;\n",
       "    }\n",
       "\n",
       "    .dataframe thead th {\n",
       "        text-align: right;\n",
       "    }\n",
       "</style>\n",
       "<table border=\"1\" class=\"dataframe\">\n",
       "  <thead>\n",
       "    <tr style=\"text-align: right;\">\n",
       "      <th></th>\n",
       "      <th>Years between graduation and startup launch</th>\n",
       "      <th>Woman CEO</th>\n",
       "      <th># of Founders</th>\n",
       "      <th>Deal Year_2020</th>\n",
       "      <th>Deal Year_2021</th>\n",
       "      <th>Deal Year_2022</th>\n",
       "      <th>Country HQ_Benin</th>\n",
       "      <th>Country HQ_Botswana</th>\n",
       "      <th>Country HQ_Burkina Faso</th>\n",
       "      <th>Country HQ_Cameroon</th>\n",
       "      <th>...</th>\n",
       "      <th>Type_Pre-Seed</th>\n",
       "      <th>Type_Pre-Series A</th>\n",
       "      <th>Type_Pre-Series B</th>\n",
       "      <th>Type_Pre-Series C</th>\n",
       "      <th>Type_Seed</th>\n",
       "      <th>Type_Series A</th>\n",
       "      <th>Type_Series B</th>\n",
       "      <th>Type_Series C</th>\n",
       "      <th>Type_Series D</th>\n",
       "      <th>Type_Venture Round</th>\n",
       "    </tr>\n",
       "  </thead>\n",
       "  <tbody>\n",
       "    <tr>\n",
       "      <th>0</th>\n",
       "      <td>0.0</td>\n",
       "      <td>0</td>\n",
       "      <td>3</td>\n",
       "      <td>0</td>\n",
       "      <td>0</td>\n",
       "      <td>0</td>\n",
       "      <td>0</td>\n",
       "      <td>0</td>\n",
       "      <td>0</td>\n",
       "      <td>0</td>\n",
       "      <td>...</td>\n",
       "      <td>0</td>\n",
       "      <td>0</td>\n",
       "      <td>0</td>\n",
       "      <td>0</td>\n",
       "      <td>0</td>\n",
       "      <td>0</td>\n",
       "      <td>0</td>\n",
       "      <td>0</td>\n",
       "      <td>0</td>\n",
       "      <td>1</td>\n",
       "    </tr>\n",
       "    <tr>\n",
       "      <th>1</th>\n",
       "      <td>5.0</td>\n",
       "      <td>0</td>\n",
       "      <td>2</td>\n",
       "      <td>0</td>\n",
       "      <td>0</td>\n",
       "      <td>0</td>\n",
       "      <td>0</td>\n",
       "      <td>0</td>\n",
       "      <td>0</td>\n",
       "      <td>0</td>\n",
       "      <td>...</td>\n",
       "      <td>0</td>\n",
       "      <td>0</td>\n",
       "      <td>0</td>\n",
       "      <td>0</td>\n",
       "      <td>0</td>\n",
       "      <td>1</td>\n",
       "      <td>0</td>\n",
       "      <td>0</td>\n",
       "      <td>0</td>\n",
       "      <td>0</td>\n",
       "    </tr>\n",
       "    <tr>\n",
       "      <th>2</th>\n",
       "      <td>12.0</td>\n",
       "      <td>0</td>\n",
       "      <td>3</td>\n",
       "      <td>0</td>\n",
       "      <td>0</td>\n",
       "      <td>0</td>\n",
       "      <td>0</td>\n",
       "      <td>0</td>\n",
       "      <td>0</td>\n",
       "      <td>0</td>\n",
       "      <td>...</td>\n",
       "      <td>0</td>\n",
       "      <td>0</td>\n",
       "      <td>0</td>\n",
       "      <td>0</td>\n",
       "      <td>1</td>\n",
       "      <td>0</td>\n",
       "      <td>0</td>\n",
       "      <td>0</td>\n",
       "      <td>0</td>\n",
       "      <td>0</td>\n",
       "    </tr>\n",
       "    <tr>\n",
       "      <th>3</th>\n",
       "      <td>18.0</td>\n",
       "      <td>0</td>\n",
       "      <td>1</td>\n",
       "      <td>0</td>\n",
       "      <td>0</td>\n",
       "      <td>0</td>\n",
       "      <td>0</td>\n",
       "      <td>0</td>\n",
       "      <td>0</td>\n",
       "      <td>0</td>\n",
       "      <td>...</td>\n",
       "      <td>0</td>\n",
       "      <td>0</td>\n",
       "      <td>0</td>\n",
       "      <td>0</td>\n",
       "      <td>1</td>\n",
       "      <td>0</td>\n",
       "      <td>0</td>\n",
       "      <td>0</td>\n",
       "      <td>0</td>\n",
       "      <td>0</td>\n",
       "    </tr>\n",
       "    <tr>\n",
       "      <th>4</th>\n",
       "      <td>13.0</td>\n",
       "      <td>0</td>\n",
       "      <td>1</td>\n",
       "      <td>0</td>\n",
       "      <td>0</td>\n",
       "      <td>0</td>\n",
       "      <td>0</td>\n",
       "      <td>0</td>\n",
       "      <td>0</td>\n",
       "      <td>0</td>\n",
       "      <td>...</td>\n",
       "      <td>0</td>\n",
       "      <td>0</td>\n",
       "      <td>0</td>\n",
       "      <td>0</td>\n",
       "      <td>0</td>\n",
       "      <td>1</td>\n",
       "      <td>0</td>\n",
       "      <td>0</td>\n",
       "      <td>0</td>\n",
       "      <td>0</td>\n",
       "    </tr>\n",
       "    <tr>\n",
       "      <th>...</th>\n",
       "      <td>...</td>\n",
       "      <td>...</td>\n",
       "      <td>...</td>\n",
       "      <td>...</td>\n",
       "      <td>...</td>\n",
       "      <td>...</td>\n",
       "      <td>...</td>\n",
       "      <td>...</td>\n",
       "      <td>...</td>\n",
       "      <td>...</td>\n",
       "      <td>...</td>\n",
       "      <td>...</td>\n",
       "      <td>...</td>\n",
       "      <td>...</td>\n",
       "      <td>...</td>\n",
       "      <td>...</td>\n",
       "      <td>...</td>\n",
       "      <td>...</td>\n",
       "      <td>...</td>\n",
       "      <td>...</td>\n",
       "      <td>...</td>\n",
       "    </tr>\n",
       "    <tr>\n",
       "      <th>1162</th>\n",
       "      <td>9.0</td>\n",
       "      <td>0</td>\n",
       "      <td>2</td>\n",
       "      <td>0</td>\n",
       "      <td>0</td>\n",
       "      <td>1</td>\n",
       "      <td>0</td>\n",
       "      <td>0</td>\n",
       "      <td>0</td>\n",
       "      <td>0</td>\n",
       "      <td>...</td>\n",
       "      <td>0</td>\n",
       "      <td>0</td>\n",
       "      <td>0</td>\n",
       "      <td>0</td>\n",
       "      <td>1</td>\n",
       "      <td>0</td>\n",
       "      <td>0</td>\n",
       "      <td>0</td>\n",
       "      <td>0</td>\n",
       "      <td>0</td>\n",
       "    </tr>\n",
       "    <tr>\n",
       "      <th>1163</th>\n",
       "      <td>5.0</td>\n",
       "      <td>0</td>\n",
       "      <td>4</td>\n",
       "      <td>0</td>\n",
       "      <td>0</td>\n",
       "      <td>1</td>\n",
       "      <td>0</td>\n",
       "      <td>0</td>\n",
       "      <td>0</td>\n",
       "      <td>0</td>\n",
       "      <td>...</td>\n",
       "      <td>0</td>\n",
       "      <td>0</td>\n",
       "      <td>0</td>\n",
       "      <td>0</td>\n",
       "      <td>0</td>\n",
       "      <td>1</td>\n",
       "      <td>0</td>\n",
       "      <td>0</td>\n",
       "      <td>0</td>\n",
       "      <td>0</td>\n",
       "    </tr>\n",
       "    <tr>\n",
       "      <th>1164</th>\n",
       "      <td>8.0</td>\n",
       "      <td>1</td>\n",
       "      <td>1</td>\n",
       "      <td>0</td>\n",
       "      <td>0</td>\n",
       "      <td>1</td>\n",
       "      <td>0</td>\n",
       "      <td>0</td>\n",
       "      <td>0</td>\n",
       "      <td>0</td>\n",
       "      <td>...</td>\n",
       "      <td>1</td>\n",
       "      <td>0</td>\n",
       "      <td>0</td>\n",
       "      <td>0</td>\n",
       "      <td>0</td>\n",
       "      <td>0</td>\n",
       "      <td>0</td>\n",
       "      <td>0</td>\n",
       "      <td>0</td>\n",
       "      <td>0</td>\n",
       "    </tr>\n",
       "    <tr>\n",
       "      <th>1165</th>\n",
       "      <td>3.0</td>\n",
       "      <td>0</td>\n",
       "      <td>1</td>\n",
       "      <td>0</td>\n",
       "      <td>0</td>\n",
       "      <td>1</td>\n",
       "      <td>0</td>\n",
       "      <td>0</td>\n",
       "      <td>0</td>\n",
       "      <td>0</td>\n",
       "      <td>...</td>\n",
       "      <td>0</td>\n",
       "      <td>0</td>\n",
       "      <td>0</td>\n",
       "      <td>0</td>\n",
       "      <td>0</td>\n",
       "      <td>0</td>\n",
       "      <td>0</td>\n",
       "      <td>0</td>\n",
       "      <td>0</td>\n",
       "      <td>1</td>\n",
       "    </tr>\n",
       "    <tr>\n",
       "      <th>1166</th>\n",
       "      <td>22.0</td>\n",
       "      <td>0</td>\n",
       "      <td>2</td>\n",
       "      <td>0</td>\n",
       "      <td>0</td>\n",
       "      <td>1</td>\n",
       "      <td>0</td>\n",
       "      <td>0</td>\n",
       "      <td>0</td>\n",
       "      <td>0</td>\n",
       "      <td>...</td>\n",
       "      <td>0</td>\n",
       "      <td>0</td>\n",
       "      <td>0</td>\n",
       "      <td>0</td>\n",
       "      <td>1</td>\n",
       "      <td>0</td>\n",
       "      <td>0</td>\n",
       "      <td>0</td>\n",
       "      <td>0</td>\n",
       "      <td>0</td>\n",
       "    </tr>\n",
       "  </tbody>\n",
       "</table>\n",
       "<p>1167 rows × 70 columns</p>\n",
       "</div>"
      ],
      "text/plain": [
       "      Years between graduation and startup launch  Woman CEO  # of Founders  \\\n",
       "0                                             0.0          0              3   \n",
       "1                                             5.0          0              2   \n",
       "2                                            12.0          0              3   \n",
       "3                                            18.0          0              1   \n",
       "4                                            13.0          0              1   \n",
       "...                                           ...        ...            ...   \n",
       "1162                                          9.0          0              2   \n",
       "1163                                          5.0          0              4   \n",
       "1164                                          8.0          1              1   \n",
       "1165                                          3.0          0              1   \n",
       "1166                                         22.0          0              2   \n",
       "\n",
       "      Deal Year_2020  Deal Year_2021  Deal Year_2022  Country HQ_Benin  \\\n",
       "0                  0               0               0                 0   \n",
       "1                  0               0               0                 0   \n",
       "2                  0               0               0                 0   \n",
       "3                  0               0               0                 0   \n",
       "4                  0               0               0                 0   \n",
       "...              ...             ...             ...               ...   \n",
       "1162               0               0               1                 0   \n",
       "1163               0               0               1                 0   \n",
       "1164               0               0               1                 0   \n",
       "1165               0               0               1                 0   \n",
       "1166               0               0               1                 0   \n",
       "\n",
       "      Country HQ_Botswana  Country HQ_Burkina Faso  Country HQ_Cameroon  ...  \\\n",
       "0                       0                        0                    0  ...   \n",
       "1                       0                        0                    0  ...   \n",
       "2                       0                        0                    0  ...   \n",
       "3                       0                        0                    0  ...   \n",
       "4                       0                        0                    0  ...   \n",
       "...                   ...                      ...                  ...  ...   \n",
       "1162                    0                        0                    0  ...   \n",
       "1163                    0                        0                    0  ...   \n",
       "1164                    0                        0                    0  ...   \n",
       "1165                    0                        0                    0  ...   \n",
       "1166                    0                        0                    0  ...   \n",
       "\n",
       "      Type_Pre-Seed  Type_Pre-Series A  Type_Pre-Series B  Type_Pre-Series C  \\\n",
       "0                 0                  0                  0                  0   \n",
       "1                 0                  0                  0                  0   \n",
       "2                 0                  0                  0                  0   \n",
       "3                 0                  0                  0                  0   \n",
       "4                 0                  0                  0                  0   \n",
       "...             ...                ...                ...                ...   \n",
       "1162              0                  0                  0                  0   \n",
       "1163              0                  0                  0                  0   \n",
       "1164              1                  0                  0                  0   \n",
       "1165              0                  0                  0                  0   \n",
       "1166              0                  0                  0                  0   \n",
       "\n",
       "      Type_Seed  Type_Series A  Type_Series B  Type_Series C  Type_Series D  \\\n",
       "0             0              0              0              0              0   \n",
       "1             0              1              0              0              0   \n",
       "2             1              0              0              0              0   \n",
       "3             1              0              0              0              0   \n",
       "4             0              1              0              0              0   \n",
       "...         ...            ...            ...            ...            ...   \n",
       "1162          1              0              0              0              0   \n",
       "1163          0              1              0              0              0   \n",
       "1164          0              0              0              0              0   \n",
       "1165          0              0              0              0              0   \n",
       "1166          1              0              0              0              0   \n",
       "\n",
       "      Type_Venture Round  \n",
       "0                      1  \n",
       "1                      0  \n",
       "2                      0  \n",
       "3                      0  \n",
       "4                      0  \n",
       "...                  ...  \n",
       "1162                   0  \n",
       "1163                   0  \n",
       "1164                   0  \n",
       "1165                   1  \n",
       "1166                   0  \n",
       "\n",
       "[1167 rows x 70 columns]"
      ]
     },
     "execution_count": 8,
     "metadata": {},
     "output_type": "execute_result"
    }
   ],
   "source": [
    "X_binary"
   ]
  },
  {
   "cell_type": "code",
   "execution_count": 9,
   "id": "21a72d8d-7555-4700-ba85-cd3401965c28",
   "metadata": {},
   "outputs": [],
   "source": [
    "# train test split\n",
    "X_train, X_test, y_train, y_test = train_test_split(X_binary, y, random_state=42)"
   ]
  },
  {
   "cell_type": "code",
   "execution_count": 10,
   "id": "9639362d-dfd4-45bc-81d4-924d45760436",
   "metadata": {},
   "outputs": [],
   "source": [
    "# take natural log of target variable\n",
    "y_train = np.log(y_train)\n",
    "y_test = np.log(y_test)"
   ]
  },
  {
   "cell_type": "code",
   "execution_count": 11,
   "id": "d75082a3-154f-4086-9572-9c7fca8596dd",
   "metadata": {},
   "outputs": [
    {
     "data": {
      "text/plain": [
       "count    875.000000\n",
       "mean      -0.113475\n",
       "std        1.703850\n",
       "min       -2.302585\n",
       "25%       -1.609438\n",
       "50%        0.000000\n",
       "75%        1.098612\n",
       "max        4.007333\n",
       "Name: Amount raised $M, dtype: float64"
      ]
     },
     "execution_count": 11,
     "metadata": {},
     "output_type": "execute_result"
    }
   ],
   "source": [
    "y_train.describe()"
   ]
  },
  {
   "cell_type": "code",
   "execution_count": 12,
   "id": "f9e229d1-429f-4f4b-b200-1d987edccbd0",
   "metadata": {},
   "outputs": [
    {
     "data": {
      "text/plain": [
       "count    292.000000\n",
       "mean      -0.183439\n",
       "std        1.742307\n",
       "min       -2.302585\n",
       "25%       -2.302585\n",
       "50%        0.000000\n",
       "75%        1.098612\n",
       "max        4.174387\n",
       "Name: Amount raised $M, dtype: float64"
      ]
     },
     "execution_count": 12,
     "metadata": {},
     "output_type": "execute_result"
    }
   ],
   "source": [
    "y_test.describe()"
   ]
  },
  {
   "cell_type": "code",
   "execution_count": 13,
   "id": "d7d8e3c3-5c86-4f82-9fc1-35aa1d28f195",
   "metadata": {},
   "outputs": [],
   "source": [
    "# filling missing data\n",
    "si = SimpleImputer(strategy = 'mean')\n",
    "X_train_no_missing = si.fit_transform(X_train)\n",
    "X_test_no_missing = si.transform(X_test)"
   ]
  },
  {
   "cell_type": "code",
   "execution_count": 14,
   "id": "a7193d9a-38c8-478b-9632-5df6d13cb4ee",
   "metadata": {},
   "outputs": [],
   "source": [
    "# putting simple imputer output into DataFrames\n",
    "X_train_final = pd.DataFrame(X_train_no_missing, columns = X_train.columns, index = X_train.index)\n",
    "X_test_final = pd.DataFrame(X_test_no_missing, columns = X_test.columns, index = X_test.index)"
   ]
  },
  {
   "cell_type": "code",
   "execution_count": 15,
   "id": "bf3a04e7-2b7b-434a-a1f8-f365cc56a6d7",
   "metadata": {},
   "outputs": [
    {
     "data": {
      "text/plain": [
       "3.030131713656713"
      ]
     },
     "execution_count": 15,
     "metadata": {},
     "output_type": "execute_result"
    }
   ],
   "source": [
    "# null model\n",
    "null_model = np.ones(y_test.shape)*np.mean(y_train)\n",
    "mean_squared_error(y_test, null_model)"
   ]
  },
  {
   "cell_type": "markdown",
   "id": "d919968b-8dea-4196-9e31-f627b3f43400",
   "metadata": {
    "tags": []
   },
   "source": [
    "### Linear regression using statsmodels"
   ]
  },
  {
   "cell_type": "code",
   "execution_count": 16,
   "id": "c3e87961-30ab-4845-85b9-ce8aa50b3d66",
   "metadata": {
    "tags": []
   },
   "outputs": [
    {
     "name": "stderr",
     "output_type": "stream",
     "text": [
      "/Users/Tochi/opt/anaconda3/lib/python3.9/site-packages/statsmodels/tsa/tsatools.py:142: FutureWarning: In a future version of pandas all arguments of concat except for the argument 'objs' will be keyword-only\n",
      "  x = pd.concat(x[::order], 1)\n"
     ]
    }
   ],
   "source": [
    "X_sm = sm.add_constant(X_train_final) # adding an intercept to the model\n",
    "model = sm.OLS(y_train, X_sm).fit() # fitting the model"
   ]
  },
  {
   "cell_type": "code",
   "execution_count": 17,
   "id": "a413adb8-804a-4aa0-a801-e42ab7446289",
   "metadata": {
    "tags": []
   },
   "outputs": [
    {
     "data": {
      "text/html": [
       "<table class=\"simpletable\">\n",
       "<caption>OLS Regression Results</caption>\n",
       "<tr>\n",
       "  <th>Dep. Variable:</th>    <td>Amount raised $M</td> <th>  R-squared:         </th> <td>   0.545</td> \n",
       "</tr>\n",
       "<tr>\n",
       "  <th>Model:</th>                   <td>OLS</td>       <th>  Adj. R-squared:    </th> <td>   0.509</td> \n",
       "</tr>\n",
       "<tr>\n",
       "  <th>Method:</th>             <td>Least Squares</td>  <th>  F-statistic:       </th> <td>   15.16</td> \n",
       "</tr>\n",
       "<tr>\n",
       "  <th>Date:</th>             <td>Mon, 09 May 2022</td> <th>  Prob (F-statistic):</th> <td>6.25e-100</td>\n",
       "</tr>\n",
       "<tr>\n",
       "  <th>Time:</th>                 <td>18:28:15</td>     <th>  Log-Likelihood:    </th> <td> -1362.9</td> \n",
       "</tr>\n",
       "<tr>\n",
       "  <th>No. Observations:</th>      <td>   875</td>      <th>  AIC:               </th> <td>   2856.</td> \n",
       "</tr>\n",
       "<tr>\n",
       "  <th>Df Residuals:</th>          <td>   810</td>      <th>  BIC:               </th> <td>   3166.</td> \n",
       "</tr>\n",
       "<tr>\n",
       "  <th>Df Model:</th>              <td>    64</td>      <th>                     </th>     <td> </td>    \n",
       "</tr>\n",
       "<tr>\n",
       "  <th>Covariance Type:</th>      <td>nonrobust</td>    <th>                     </th>     <td> </td>    \n",
       "</tr>\n",
       "</table>\n",
       "<table class=\"simpletable\">\n",
       "<tr>\n",
       "                          <td></td>                             <th>coef</th>     <th>std err</th>      <th>t</th>      <th>P>|t|</th>  <th>[0.025</th>    <th>0.975]</th>  \n",
       "</tr>\n",
       "<tr>\n",
       "  <th>const</th>                                             <td>    0.0243</td> <td>    1.261</td> <td>    0.019</td> <td> 0.985</td> <td>   -2.450</td> <td>    2.499</td>\n",
       "</tr>\n",
       "<tr>\n",
       "  <th>Years between graduation and startup launch</th>       <td>    0.0060</td> <td>    0.007</td> <td>    0.889</td> <td> 0.374</td> <td>   -0.007</td> <td>    0.019</td>\n",
       "</tr>\n",
       "<tr>\n",
       "  <th>Woman CEO</th>                                         <td>    0.0657</td> <td>    0.194</td> <td>    0.339</td> <td> 0.734</td> <td>   -0.314</td> <td>    0.446</td>\n",
       "</tr>\n",
       "<tr>\n",
       "  <th># of Founders</th>                                     <td>    0.1799</td> <td>    0.055</td> <td>    3.247</td> <td> 0.001</td> <td>    0.071</td> <td>    0.289</td>\n",
       "</tr>\n",
       "<tr>\n",
       "  <th>Deal Year_2020</th>                                    <td>   -0.2627</td> <td>    0.175</td> <td>   -1.497</td> <td> 0.135</td> <td>   -0.607</td> <td>    0.082</td>\n",
       "</tr>\n",
       "<tr>\n",
       "  <th>Deal Year_2021</th>                                    <td>   -0.6313</td> <td>    0.161</td> <td>   -3.919</td> <td> 0.000</td> <td>   -0.947</td> <td>   -0.315</td>\n",
       "</tr>\n",
       "<tr>\n",
       "  <th>Deal Year_2022</th>                                    <td>   -0.1196</td> <td>    0.180</td> <td>   -0.665</td> <td> 0.506</td> <td>   -0.473</td> <td>    0.233</td>\n",
       "</tr>\n",
       "<tr>\n",
       "  <th>Country HQ_Benin</th>                                  <td>    1.6575</td> <td>    1.407</td> <td>    1.178</td> <td> 0.239</td> <td>   -1.105</td> <td>    4.420</td>\n",
       "</tr>\n",
       "<tr>\n",
       "  <th>Country HQ_Botswana</th>                               <td>   -0.4550</td> <td>    1.722</td> <td>   -0.264</td> <td> 0.792</td> <td>   -3.834</td> <td>    2.924</td>\n",
       "</tr>\n",
       "<tr>\n",
       "  <th>Country HQ_Burkina Faso</th>                           <td>-3.072e-15</td> <td> 4.72e-15</td> <td>   -0.651</td> <td> 0.515</td> <td>-1.23e-14</td> <td> 6.19e-15</td>\n",
       "</tr>\n",
       "<tr>\n",
       "  <th>Country HQ_Cameroon</th>                               <td>    0.7800</td> <td>    1.314</td> <td>    0.594</td> <td> 0.553</td> <td>   -1.799</td> <td>    3.359</td>\n",
       "</tr>\n",
       "<tr>\n",
       "  <th>Country HQ_Congo</th>                                  <td>    2.2169</td> <td>    1.730</td> <td>    1.281</td> <td> 0.200</td> <td>   -1.179</td> <td>    5.613</td>\n",
       "</tr>\n",
       "<tr>\n",
       "  <th>Country HQ_Cote d'Ivoire</th>                          <td>    0.3102</td> <td>    1.251</td> <td>    0.248</td> <td> 0.804</td> <td>   -2.146</td> <td>    2.766</td>\n",
       "</tr>\n",
       "<tr>\n",
       "  <th>Country HQ_DRC</th>                                    <td>   -0.3488</td> <td>    1.309</td> <td>   -0.266</td> <td> 0.790</td> <td>   -2.918</td> <td>    2.221</td>\n",
       "</tr>\n",
       "<tr>\n",
       "  <th>Country HQ_Egypt</th>                                  <td>    0.2465</td> <td>    1.221</td> <td>    0.202</td> <td> 0.840</td> <td>   -2.150</td> <td>    2.643</td>\n",
       "</tr>\n",
       "<tr>\n",
       "  <th>Country HQ_Ethiopia</th>                               <td>    0.2866</td> <td>    1.284</td> <td>    0.223</td> <td> 0.824</td> <td>   -2.235</td> <td>    2.808</td>\n",
       "</tr>\n",
       "<tr>\n",
       "  <th>Country HQ_Ghana</th>                                  <td>   -0.0349</td> <td>    1.233</td> <td>   -0.028</td> <td> 0.977</td> <td>   -2.455</td> <td>    2.385</td>\n",
       "</tr>\n",
       "<tr>\n",
       "  <th>Country HQ_Guinea (Conakry)</th>                       <td> 3.862e-15</td> <td> 1.44e-15</td> <td>    2.680</td> <td> 0.008</td> <td> 1.03e-15</td> <td> 6.69e-15</td>\n",
       "</tr>\n",
       "<tr>\n",
       "  <th>Country HQ_Kenya</th>                                  <td>    0.3412</td> <td>    1.219</td> <td>    0.280</td> <td> 0.780</td> <td>   -2.052</td> <td>    2.735</td>\n",
       "</tr>\n",
       "<tr>\n",
       "  <th>Country HQ_Lesotho</th>                                <td>-2.372e-15</td> <td> 3.06e-15</td> <td>   -0.775</td> <td> 0.439</td> <td>-8.38e-15</td> <td> 3.64e-15</td>\n",
       "</tr>\n",
       "<tr>\n",
       "  <th>Country HQ_Madagascar</th>                             <td>    0.6005</td> <td>    1.340</td> <td>    0.448</td> <td> 0.654</td> <td>   -2.030</td> <td>    3.231</td>\n",
       "</tr>\n",
       "<tr>\n",
       "  <th>Country HQ_Malawi</th>                                 <td>    0.7848</td> <td>    1.496</td> <td>    0.525</td> <td> 0.600</td> <td>   -2.151</td> <td>    3.721</td>\n",
       "</tr>\n",
       "<tr>\n",
       "  <th>Country HQ_Mali</th>                                   <td>   -0.5357</td> <td>    1.483</td> <td>   -0.361</td> <td> 0.718</td> <td>   -3.447</td> <td>    2.375</td>\n",
       "</tr>\n",
       "<tr>\n",
       "  <th>Country HQ_Morocco</th>                                <td>    0.5510</td> <td>    1.250</td> <td>    0.441</td> <td> 0.659</td> <td>   -1.902</td> <td>    3.004</td>\n",
       "</tr>\n",
       "<tr>\n",
       "  <th>Country HQ_Mozambique</th>                             <td>   -0.8530</td> <td>    1.713</td> <td>   -0.498</td> <td> 0.619</td> <td>   -4.215</td> <td>    2.509</td>\n",
       "</tr>\n",
       "<tr>\n",
       "  <th>Country HQ_Namibia</th>                                <td> 1.715e-15</td> <td>  1.1e-15</td> <td>    1.554</td> <td> 0.121</td> <td>-4.52e-16</td> <td> 3.88e-15</td>\n",
       "</tr>\n",
       "<tr>\n",
       "  <th>Country HQ_Nigeria</th>                                <td>    0.3744</td> <td>    1.219</td> <td>    0.307</td> <td> 0.759</td> <td>   -2.017</td> <td>    2.766</td>\n",
       "</tr>\n",
       "<tr>\n",
       "  <th>Country HQ_Overseas</th>                               <td>    1.2268</td> <td>    1.277</td> <td>    0.961</td> <td> 0.337</td> <td>   -1.279</td> <td>    3.733</td>\n",
       "</tr>\n",
       "<tr>\n",
       "  <th>Country HQ_Rwanda</th>                                 <td>   -0.1827</td> <td>    1.267</td> <td>   -0.144</td> <td> 0.885</td> <td>   -2.670</td> <td>    2.304</td>\n",
       "</tr>\n",
       "<tr>\n",
       "  <th>Country HQ_Senegal</th>                                <td>    0.3751</td> <td>    1.251</td> <td>    0.300</td> <td> 0.764</td> <td>   -2.081</td> <td>    2.831</td>\n",
       "</tr>\n",
       "<tr>\n",
       "  <th>Country HQ_Sierra Leone</th>                           <td>    0.1895</td> <td>    1.722</td> <td>    0.110</td> <td> 0.912</td> <td>   -3.191</td> <td>    3.570</td>\n",
       "</tr>\n",
       "<tr>\n",
       "  <th>Country HQ_South Africa</th>                           <td>    0.4296</td> <td>    1.218</td> <td>    0.353</td> <td> 0.724</td> <td>   -1.962</td> <td>    2.821</td>\n",
       "</tr>\n",
       "<tr>\n",
       "  <th>Country HQ_Sudan</th>                                  <td>    3.4206</td> <td>    1.718</td> <td>    1.991</td> <td> 0.047</td> <td>    0.048</td> <td>    6.793</td>\n",
       "</tr>\n",
       "<tr>\n",
       "  <th>Country HQ_Tanzania</th>                               <td>    1.5669</td> <td>    1.359</td> <td>    1.153</td> <td> 0.249</td> <td>   -1.100</td> <td>    4.234</td>\n",
       "</tr>\n",
       "<tr>\n",
       "  <th>Country HQ_Togo</th>                                   <td>    0.3864</td> <td>    1.394</td> <td>    0.277</td> <td> 0.782</td> <td>   -2.349</td> <td>    3.122</td>\n",
       "</tr>\n",
       "<tr>\n",
       "  <th>Country HQ_Tunisia</th>                                <td>   -0.0082</td> <td>    1.256</td> <td>   -0.007</td> <td> 0.995</td> <td>   -2.474</td> <td>    2.457</td>\n",
       "</tr>\n",
       "<tr>\n",
       "  <th>Country HQ_Uganda</th>                                 <td>    0.7007</td> <td>    1.244</td> <td>    0.563</td> <td> 0.573</td> <td>   -1.740</td> <td>    3.142</td>\n",
       "</tr>\n",
       "<tr>\n",
       "  <th>Country HQ_Zambia</th>                                 <td>   -0.3610</td> <td>    1.336</td> <td>   -0.270</td> <td> 0.787</td> <td>   -2.983</td> <td>    2.261</td>\n",
       "</tr>\n",
       "<tr>\n",
       "  <th>Country HQ_Zimbabwe</th>                               <td>   -0.6057</td> <td>    1.497</td> <td>   -0.405</td> <td> 0.686</td> <td>   -3.545</td> <td>    2.333</td>\n",
       "</tr>\n",
       "<tr>\n",
       "  <th>Sector_Deeptech</th>                                   <td>   -0.2884</td> <td>    0.288</td> <td>   -1.000</td> <td> 0.318</td> <td>   -0.855</td> <td>    0.278</td>\n",
       "</tr>\n",
       "<tr>\n",
       "  <th>Sector_Education & Jobs</th>                           <td>   -0.4622</td> <td>    0.229</td> <td>   -2.015</td> <td> 0.044</td> <td>   -0.913</td> <td>   -0.012</td>\n",
       "</tr>\n",
       "<tr>\n",
       "  <th>Sector_Energy & Water</th>                             <td>   -0.1213</td> <td>    0.203</td> <td>   -0.597</td> <td> 0.551</td> <td>   -0.520</td> <td>    0.277</td>\n",
       "</tr>\n",
       "<tr>\n",
       "  <th>Sector_Fintech</th>                                    <td>    0.0213</td> <td>    0.159</td> <td>    0.134</td> <td> 0.893</td> <td>   -0.290</td> <td>    0.333</td>\n",
       "</tr>\n",
       "<tr>\n",
       "  <th>Sector_Healthcare</th>                                 <td>   -0.3240</td> <td>    0.199</td> <td>   -1.625</td> <td> 0.105</td> <td>   -0.716</td> <td>    0.067</td>\n",
       "</tr>\n",
       "<tr>\n",
       "  <th>Sector_Housing</th>                                    <td>   -0.5079</td> <td>    0.329</td> <td>   -1.543</td> <td> 0.123</td> <td>   -1.154</td> <td>    0.138</td>\n",
       "</tr>\n",
       "<tr>\n",
       "  <th>Sector_Logistics & Transport</th>                      <td>   -0.2926</td> <td>    0.191</td> <td>   -1.536</td> <td> 0.125</td> <td>   -0.667</td> <td>    0.081</td>\n",
       "</tr>\n",
       "<tr>\n",
       "  <th>Sector_Retail</th>                                     <td>   -0.1780</td> <td>    0.206</td> <td>   -0.865</td> <td> 0.387</td> <td>   -0.582</td> <td>    0.226</td>\n",
       "</tr>\n",
       "<tr>\n",
       "  <th>Sector_Services</th>                                   <td>   -0.5029</td> <td>    0.199</td> <td>   -2.526</td> <td> 0.012</td> <td>   -0.894</td> <td>   -0.112</td>\n",
       "</tr>\n",
       "<tr>\n",
       "  <th>Sector_Telecom, Media & Entertainment</th>             <td>   -0.4505</td> <td>    0.259</td> <td>   -1.736</td> <td> 0.083</td> <td>   -0.960</td> <td>    0.059</td>\n",
       "</tr>\n",
       "<tr>\n",
       "  <th>Sector_Waste Management</th>                           <td>   -0.2926</td> <td>    0.430</td> <td>   -0.680</td> <td> 0.497</td> <td>   -1.137</td> <td>    0.552</td>\n",
       "</tr>\n",
       "<tr>\n",
       "  <th>CEO - University/School - Continent_Asia</th>          <td>    0.1121</td> <td>    0.281</td> <td>    0.399</td> <td> 0.690</td> <td>   -0.439</td> <td>    0.664</td>\n",
       "</tr>\n",
       "<tr>\n",
       "  <th>CEO - University/School - Continent_Europe</th>        <td>    0.3546</td> <td>    0.111</td> <td>    3.207</td> <td> 0.001</td> <td>    0.138</td> <td>    0.572</td>\n",
       "</tr>\n",
       "<tr>\n",
       "  <th>CEO - University/School - Continent_Middle East</th>   <td>   -0.8371</td> <td>    1.229</td> <td>   -0.681</td> <td> 0.496</td> <td>   -3.249</td> <td>    1.575</td>\n",
       "</tr>\n",
       "<tr>\n",
       "  <th>CEO - University/School - Continent_North America</th> <td>    0.3326</td> <td>    0.111</td> <td>    2.983</td> <td> 0.003</td> <td>    0.114</td> <td>    0.552</td>\n",
       "</tr>\n",
       "<tr>\n",
       "  <th>Founders gender mix_Gender-diverse founding team</th>  <td>    0.1947</td> <td>    0.235</td> <td>    0.830</td> <td> 0.407</td> <td>   -0.266</td> <td>    0.656</td>\n",
       "</tr>\n",
       "<tr>\n",
       "  <th>Founders gender mix_Male-only founding team</th>       <td>    0.3532</td> <td>    0.256</td> <td>    1.378</td> <td> 0.169</td> <td>   -0.150</td> <td>    0.856</td>\n",
       "</tr>\n",
       "<tr>\n",
       "  <th>Type_Equity</th>                                       <td>   -0.1234</td> <td>    0.726</td> <td>   -0.170</td> <td> 0.865</td> <td>   -1.549</td> <td>    1.302</td>\n",
       "</tr>\n",
       "<tr>\n",
       "  <th>Type_Grant</th>                                        <td>   -2.3045</td> <td>    0.227</td> <td>  -10.140</td> <td> 0.000</td> <td>   -2.751</td> <td>   -1.858</td>\n",
       "</tr>\n",
       "<tr>\n",
       "  <th>Type_IPO</th>                                          <td> 8.234e-17</td> <td> 2.33e-16</td> <td>    0.354</td> <td> 0.723</td> <td>-3.74e-16</td> <td> 5.39e-16</td>\n",
       "</tr>\n",
       "<tr>\n",
       "  <th>Type_M&A</th>                                          <td>   -0.0951</td> <td>    0.736</td> <td>   -0.129</td> <td> 0.897</td> <td>   -1.539</td> <td>    1.349</td>\n",
       "</tr>\n",
       "<tr>\n",
       "  <th>Type_PIPE</th>                                         <td>-2.987e-17</td> <td> 2.89e-16</td> <td>   -0.103</td> <td> 0.918</td> <td>-5.97e-16</td> <td> 5.37e-16</td>\n",
       "</tr>\n",
       "<tr>\n",
       "  <th>Type_Pre-Seed</th>                                     <td>   -1.4039</td> <td>    0.229</td> <td>   -6.122</td> <td> 0.000</td> <td>   -1.854</td> <td>   -0.954</td>\n",
       "</tr>\n",
       "<tr>\n",
       "  <th>Type_Pre-Series A</th>                                 <td>   -0.4022</td> <td>    0.281</td> <td>   -1.430</td> <td> 0.153</td> <td>   -0.955</td> <td>    0.150</td>\n",
       "</tr>\n",
       "<tr>\n",
       "  <th>Type_Pre-Series B</th>                                 <td>    0.8701</td> <td>    0.722</td> <td>    1.206</td> <td> 0.228</td> <td>   -0.546</td> <td>    2.287</td>\n",
       "</tr>\n",
       "<tr>\n",
       "  <th>Type_Pre-Series C</th>                                 <td>    2.3984</td> <td>    1.224</td> <td>    1.960</td> <td> 0.050</td> <td>   -0.004</td> <td>    4.801</td>\n",
       "</tr>\n",
       "<tr>\n",
       "  <th>Type_Seed</th>                                         <td>   -0.6278</td> <td>    0.211</td> <td>   -2.981</td> <td> 0.003</td> <td>   -1.041</td> <td>   -0.214</td>\n",
       "</tr>\n",
       "<tr>\n",
       "  <th>Type_Series A</th>                                     <td>    0.7126</td> <td>    0.221</td> <td>    3.225</td> <td> 0.001</td> <td>    0.279</td> <td>    1.146</td>\n",
       "</tr>\n",
       "<tr>\n",
       "  <th>Type_Series B</th>                                     <td>    1.7157</td> <td>    0.293</td> <td>    5.861</td> <td> 0.000</td> <td>    1.141</td> <td>    2.290</td>\n",
       "</tr>\n",
       "<tr>\n",
       "  <th>Type_Series C</th>                                     <td>    2.4829</td> <td>    0.491</td> <td>    5.060</td> <td> 0.000</td> <td>    1.520</td> <td>    3.446</td>\n",
       "</tr>\n",
       "<tr>\n",
       "  <th>Type_Series D</th>                                     <td>    2.5269</td> <td>    0.730</td> <td>    3.461</td> <td> 0.001</td> <td>    1.094</td> <td>    3.960</td>\n",
       "</tr>\n",
       "<tr>\n",
       "  <th>Type_Venture Round</th>                                <td>   -1.3497</td> <td>    0.197</td> <td>   -6.847</td> <td> 0.000</td> <td>   -1.737</td> <td>   -0.963</td>\n",
       "</tr>\n",
       "</table>\n",
       "<table class=\"simpletable\">\n",
       "<tr>\n",
       "  <th>Omnibus:</th>       <td>14.100</td> <th>  Durbin-Watson:     </th> <td>   2.092</td>\n",
       "</tr>\n",
       "<tr>\n",
       "  <th>Prob(Omnibus):</th> <td> 0.001</td> <th>  Jarque-Bera (JB):  </th> <td>  14.587</td>\n",
       "</tr>\n",
       "<tr>\n",
       "  <th>Skew:</th>          <td> 0.314</td> <th>  Prob(JB):          </th> <td>0.000680</td>\n",
       "</tr>\n",
       "<tr>\n",
       "  <th>Kurtosis:</th>      <td> 2.932</td> <th>  Cond. No.          </th> <td>1.32e+16</td>\n",
       "</tr>\n",
       "</table><br/><br/>Notes:<br/>[1] Standard Errors assume that the covariance matrix of the errors is correctly specified.<br/>[2] The smallest eigenvalue is 4.52e-28. This might indicate that there are<br/>strong multicollinearity problems or that the design matrix is singular."
      ],
      "text/plain": [
       "<class 'statsmodels.iolib.summary.Summary'>\n",
       "\"\"\"\n",
       "                            OLS Regression Results                            \n",
       "==============================================================================\n",
       "Dep. Variable:       Amount raised $M   R-squared:                       0.545\n",
       "Model:                            OLS   Adj. R-squared:                  0.509\n",
       "Method:                 Least Squares   F-statistic:                     15.16\n",
       "Date:                Mon, 09 May 2022   Prob (F-statistic):          6.25e-100\n",
       "Time:                        18:28:15   Log-Likelihood:                -1362.9\n",
       "No. Observations:                 875   AIC:                             2856.\n",
       "Df Residuals:                     810   BIC:                             3166.\n",
       "Df Model:                          64                                         \n",
       "Covariance Type:            nonrobust                                         \n",
       "=====================================================================================================================\n",
       "                                                        coef    std err          t      P>|t|      [0.025      0.975]\n",
       "---------------------------------------------------------------------------------------------------------------------\n",
       "const                                                 0.0243      1.261      0.019      0.985      -2.450       2.499\n",
       "Years between graduation and startup launch           0.0060      0.007      0.889      0.374      -0.007       0.019\n",
       "Woman CEO                                             0.0657      0.194      0.339      0.734      -0.314       0.446\n",
       "# of Founders                                         0.1799      0.055      3.247      0.001       0.071       0.289\n",
       "Deal Year_2020                                       -0.2627      0.175     -1.497      0.135      -0.607       0.082\n",
       "Deal Year_2021                                       -0.6313      0.161     -3.919      0.000      -0.947      -0.315\n",
       "Deal Year_2022                                       -0.1196      0.180     -0.665      0.506      -0.473       0.233\n",
       "Country HQ_Benin                                      1.6575      1.407      1.178      0.239      -1.105       4.420\n",
       "Country HQ_Botswana                                  -0.4550      1.722     -0.264      0.792      -3.834       2.924\n",
       "Country HQ_Burkina Faso                           -3.072e-15   4.72e-15     -0.651      0.515   -1.23e-14    6.19e-15\n",
       "Country HQ_Cameroon                                   0.7800      1.314      0.594      0.553      -1.799       3.359\n",
       "Country HQ_Congo                                      2.2169      1.730      1.281      0.200      -1.179       5.613\n",
       "Country HQ_Cote d'Ivoire                              0.3102      1.251      0.248      0.804      -2.146       2.766\n",
       "Country HQ_DRC                                       -0.3488      1.309     -0.266      0.790      -2.918       2.221\n",
       "Country HQ_Egypt                                      0.2465      1.221      0.202      0.840      -2.150       2.643\n",
       "Country HQ_Ethiopia                                   0.2866      1.284      0.223      0.824      -2.235       2.808\n",
       "Country HQ_Ghana                                     -0.0349      1.233     -0.028      0.977      -2.455       2.385\n",
       "Country HQ_Guinea (Conakry)                        3.862e-15   1.44e-15      2.680      0.008    1.03e-15    6.69e-15\n",
       "Country HQ_Kenya                                      0.3412      1.219      0.280      0.780      -2.052       2.735\n",
       "Country HQ_Lesotho                                -2.372e-15   3.06e-15     -0.775      0.439   -8.38e-15    3.64e-15\n",
       "Country HQ_Madagascar                                 0.6005      1.340      0.448      0.654      -2.030       3.231\n",
       "Country HQ_Malawi                                     0.7848      1.496      0.525      0.600      -2.151       3.721\n",
       "Country HQ_Mali                                      -0.5357      1.483     -0.361      0.718      -3.447       2.375\n",
       "Country HQ_Morocco                                    0.5510      1.250      0.441      0.659      -1.902       3.004\n",
       "Country HQ_Mozambique                                -0.8530      1.713     -0.498      0.619      -4.215       2.509\n",
       "Country HQ_Namibia                                 1.715e-15    1.1e-15      1.554      0.121   -4.52e-16    3.88e-15\n",
       "Country HQ_Nigeria                                    0.3744      1.219      0.307      0.759      -2.017       2.766\n",
       "Country HQ_Overseas                                   1.2268      1.277      0.961      0.337      -1.279       3.733\n",
       "Country HQ_Rwanda                                    -0.1827      1.267     -0.144      0.885      -2.670       2.304\n",
       "Country HQ_Senegal                                    0.3751      1.251      0.300      0.764      -2.081       2.831\n",
       "Country HQ_Sierra Leone                               0.1895      1.722      0.110      0.912      -3.191       3.570\n",
       "Country HQ_South Africa                               0.4296      1.218      0.353      0.724      -1.962       2.821\n",
       "Country HQ_Sudan                                      3.4206      1.718      1.991      0.047       0.048       6.793\n",
       "Country HQ_Tanzania                                   1.5669      1.359      1.153      0.249      -1.100       4.234\n",
       "Country HQ_Togo                                       0.3864      1.394      0.277      0.782      -2.349       3.122\n",
       "Country HQ_Tunisia                                   -0.0082      1.256     -0.007      0.995      -2.474       2.457\n",
       "Country HQ_Uganda                                     0.7007      1.244      0.563      0.573      -1.740       3.142\n",
       "Country HQ_Zambia                                    -0.3610      1.336     -0.270      0.787      -2.983       2.261\n",
       "Country HQ_Zimbabwe                                  -0.6057      1.497     -0.405      0.686      -3.545       2.333\n",
       "Sector_Deeptech                                      -0.2884      0.288     -1.000      0.318      -0.855       0.278\n",
       "Sector_Education & Jobs                              -0.4622      0.229     -2.015      0.044      -0.913      -0.012\n",
       "Sector_Energy & Water                                -0.1213      0.203     -0.597      0.551      -0.520       0.277\n",
       "Sector_Fintech                                        0.0213      0.159      0.134      0.893      -0.290       0.333\n",
       "Sector_Healthcare                                    -0.3240      0.199     -1.625      0.105      -0.716       0.067\n",
       "Sector_Housing                                       -0.5079      0.329     -1.543      0.123      -1.154       0.138\n",
       "Sector_Logistics & Transport                         -0.2926      0.191     -1.536      0.125      -0.667       0.081\n",
       "Sector_Retail                                        -0.1780      0.206     -0.865      0.387      -0.582       0.226\n",
       "Sector_Services                                      -0.5029      0.199     -2.526      0.012      -0.894      -0.112\n",
       "Sector_Telecom, Media & Entertainment                -0.4505      0.259     -1.736      0.083      -0.960       0.059\n",
       "Sector_Waste Management                              -0.2926      0.430     -0.680      0.497      -1.137       0.552\n",
       "CEO - University/School - Continent_Asia              0.1121      0.281      0.399      0.690      -0.439       0.664\n",
       "CEO - University/School - Continent_Europe            0.3546      0.111      3.207      0.001       0.138       0.572\n",
       "CEO - University/School - Continent_Middle East      -0.8371      1.229     -0.681      0.496      -3.249       1.575\n",
       "CEO - University/School - Continent_North America     0.3326      0.111      2.983      0.003       0.114       0.552\n",
       "Founders gender mix_Gender-diverse founding team      0.1947      0.235      0.830      0.407      -0.266       0.656\n",
       "Founders gender mix_Male-only founding team           0.3532      0.256      1.378      0.169      -0.150       0.856\n",
       "Type_Equity                                          -0.1234      0.726     -0.170      0.865      -1.549       1.302\n",
       "Type_Grant                                           -2.3045      0.227    -10.140      0.000      -2.751      -1.858\n",
       "Type_IPO                                           8.234e-17   2.33e-16      0.354      0.723   -3.74e-16    5.39e-16\n",
       "Type_M&A                                             -0.0951      0.736     -0.129      0.897      -1.539       1.349\n",
       "Type_PIPE                                         -2.987e-17   2.89e-16     -0.103      0.918   -5.97e-16    5.37e-16\n",
       "Type_Pre-Seed                                        -1.4039      0.229     -6.122      0.000      -1.854      -0.954\n",
       "Type_Pre-Series A                                    -0.4022      0.281     -1.430      0.153      -0.955       0.150\n",
       "Type_Pre-Series B                                     0.8701      0.722      1.206      0.228      -0.546       2.287\n",
       "Type_Pre-Series C                                     2.3984      1.224      1.960      0.050      -0.004       4.801\n",
       "Type_Seed                                            -0.6278      0.211     -2.981      0.003      -1.041      -0.214\n",
       "Type_Series A                                         0.7126      0.221      3.225      0.001       0.279       1.146\n",
       "Type_Series B                                         1.7157      0.293      5.861      0.000       1.141       2.290\n",
       "Type_Series C                                         2.4829      0.491      5.060      0.000       1.520       3.446\n",
       "Type_Series D                                         2.5269      0.730      3.461      0.001       1.094       3.960\n",
       "Type_Venture Round                                   -1.3497      0.197     -6.847      0.000      -1.737      -0.963\n",
       "==============================================================================\n",
       "Omnibus:                       14.100   Durbin-Watson:                   2.092\n",
       "Prob(Omnibus):                  0.001   Jarque-Bera (JB):               14.587\n",
       "Skew:                           0.314   Prob(JB):                     0.000680\n",
       "Kurtosis:                       2.932   Cond. No.                     1.32e+16\n",
       "==============================================================================\n",
       "\n",
       "Notes:\n",
       "[1] Standard Errors assume that the covariance matrix of the errors is correctly specified.\n",
       "[2] The smallest eigenvalue is 4.52e-28. This might indicate that there are\n",
       "strong multicollinearity problems or that the design matrix is singular.\n",
       "\"\"\""
      ]
     },
     "execution_count": 17,
     "metadata": {},
     "output_type": "execute_result"
    }
   ],
   "source": [
    "model.summary()"
   ]
  },
  {
   "cell_type": "markdown",
   "id": "69c69223-2c6b-4aa9-b20d-534d7ac6d926",
   "metadata": {},
   "source": [
    "### Linear regression using sklearn"
   ]
  },
  {
   "cell_type": "code",
   "execution_count": 18,
   "id": "11eb9959-1dda-43b3-9212-26e012b8ad9f",
   "metadata": {},
   "outputs": [
    {
     "data": {
      "text/plain": [
       "LinearRegression()"
      ]
     },
     "execution_count": 18,
     "metadata": {},
     "output_type": "execute_result"
    }
   ],
   "source": [
    "lr = LinearRegression()\n",
    "lr.fit(X_train_final, y_train) # instantiate and fit the model"
   ]
  },
  {
   "cell_type": "code",
   "execution_count": 19,
   "id": "35053b12-c8ab-4ef9-b3d1-60009c3fd6e4",
   "metadata": {},
   "outputs": [
    {
     "data": {
      "text/plain": [
       "array([1.59293022, 1.80928828, 1.56049293, 1.33190586, 1.54890134])"
      ]
     },
     "execution_count": 19,
     "metadata": {},
     "output_type": "execute_result"
    }
   ],
   "source": [
    "# cross val on train set - mse is better than null model\n",
    "np.abs(cross_val_score(lr, X_train_final, y_train, scoring='neg_mean_squared_error'))"
   ]
  },
  {
   "cell_type": "code",
   "execution_count": 20,
   "id": "661f850e-44fa-404b-8958-b70b28da5ba2",
   "metadata": {},
   "outputs": [
    {
     "data": {
      "text/plain": [
       "array([2.26377034, 1.60945662, 1.83175234, 1.88714319, 1.50047141])"
      ]
     },
     "execution_count": 20,
     "metadata": {},
     "output_type": "execute_result"
    }
   ],
   "source": [
    "# cross val on test set - note significant variation in MSE \n",
    "np.abs(cross_val_score(lr, X_test_final, y_test, scoring='neg_mean_squared_error'))"
   ]
  },
  {
   "cell_type": "code",
   "execution_count": 21,
   "id": "2b963b75-03f7-40f8-bd49-6bf46ab96dc1",
   "metadata": {},
   "outputs": [
    {
     "data": {
      "text/plain": [
       "1.3194813254726898"
      ]
     },
     "execution_count": 21,
     "metadata": {},
     "output_type": "execute_result"
    }
   ],
   "source": [
    "mean_squared_error(y_train, lr.predict(X_train_final), squared=True) # error on train set"
   ]
  },
  {
   "cell_type": "code",
   "execution_count": 22,
   "id": "1f1c862c-238a-46ef-a643-a3b71f81b6d0",
   "metadata": {
    "tags": []
   },
   "outputs": [
    {
     "data": {
      "text/plain": [
       "1.6163602210641825"
      ]
     },
     "execution_count": 22,
     "metadata": {},
     "output_type": "execute_result"
    }
   ],
   "source": [
    "mean_squared_error(y_test, lr.predict(X_test_final), squared=True) # error on test set"
   ]
  },
  {
   "cell_type": "markdown",
   "id": "61c14fe0-4503-495a-8890-76604a8f5f5d",
   "metadata": {},
   "source": [
    "### Huber regression with GridSearch"
   ]
  },
  {
   "cell_type": "code",
   "execution_count": 23,
   "id": "6ebe2813-a795-4004-8a78-0dd429d6ced4",
   "metadata": {
    "tags": []
   },
   "outputs": [
    {
     "name": "stderr",
     "output_type": "stream",
     "text": [
      "/Users/Tochi/opt/anaconda3/lib/python3.9/site-packages/sklearn/linear_model/_huber.py:296: ConvergenceWarning: lbfgs failed to converge (status=1):\n",
      "STOP: TOTAL NO. of ITERATIONS REACHED LIMIT.\n",
      "\n",
      "Increase the number of iterations (max_iter) or scale the data as shown in:\n",
      "    https://scikit-learn.org/stable/modules/preprocessing.html\n",
      "  self.n_iter_ = _check_optimize_result(\"lbfgs\", opt_res, self.max_iter)\n"
     ]
    }
   ],
   "source": [
    "hub = HuberRegressor().fit(X_train_final, y_train)"
   ]
  },
  {
   "cell_type": "code",
   "execution_count": 24,
   "id": "14f744d1-de32-4214-bcd6-69d7476d9ded",
   "metadata": {},
   "outputs": [
    {
     "data": {
      "text/plain": [
       "1.5903346706637116"
      ]
     },
     "execution_count": 24,
     "metadata": {},
     "output_type": "execute_result"
    }
   ],
   "source": [
    "mean_squared_error(y_test, hub.predict(X_test_final), squared=True) # mse of model with default params"
   ]
  },
  {
   "cell_type": "code",
   "execution_count": 25,
   "id": "a2c36e41-2301-403f-beac-55c2e6591498",
   "metadata": {},
   "outputs": [],
   "source": [
    "params = {\n",
    "    'epsilon': [1, 1.1, 1.2, 1.35, 1.5, 1.75, 2, 2.5, 3, 3.25, 3.5, 4],\n",
    "    'max_iter': [100,1000,10000]\n",
    "}"
   ]
  },
  {
   "cell_type": "code",
   "execution_count": 26,
   "id": "3d2308d1-e95f-44e7-b41c-298ee95dca0b",
   "metadata": {},
   "outputs": [],
   "source": [
    "grid_huber = GridSearchCV(HuberRegressor(), param_grid = params, \n",
    "                          cv = 5, scoring = \"neg_mean_squared_error\")"
   ]
  },
  {
   "cell_type": "code",
   "execution_count": 27,
   "id": "37915eb8-fdc8-4b72-abcd-333e8a9e164e",
   "metadata": {},
   "outputs": [],
   "source": [
    "import warnings\n",
    "warnings.filterwarnings('ignore')"
   ]
  },
  {
   "cell_type": "code",
   "execution_count": 28,
   "id": "02b40082-d131-4164-ae58-04349ac942bb",
   "metadata": {
    "tags": []
   },
   "outputs": [
    {
     "data": {
      "text/plain": [
       "GridSearchCV(cv=5, estimator=HuberRegressor(),\n",
       "             param_grid={'epsilon': [1, 1.1, 1.2, 1.35, 1.5, 1.75, 2, 2.5, 3,\n",
       "                                     3.25, 3.5, 4],\n",
       "                         'max_iter': [100, 1000, 10000]},\n",
       "             scoring='neg_mean_squared_error')"
      ]
     },
     "execution_count": 28,
     "metadata": {},
     "output_type": "execute_result"
    }
   ],
   "source": [
    "grid_huber.fit(X_train_final, y_train)"
   ]
  },
  {
   "cell_type": "code",
   "execution_count": 29,
   "id": "c5898907-1053-4bc0-b944-63ff849b7eeb",
   "metadata": {
    "tags": []
   },
   "outputs": [
    {
     "data": {
      "text/plain": [
       "{'epsilon': 3.25, 'max_iter': 100}"
      ]
     },
     "execution_count": 29,
     "metadata": {},
     "output_type": "execute_result"
    }
   ],
   "source": [
    "grid_huber.best_params_"
   ]
  },
  {
   "cell_type": "code",
   "execution_count": 30,
   "id": "5d59fe66-6724-47b9-b21c-1595024778aa",
   "metadata": {},
   "outputs": [
    {
     "data": {
      "text/plain": [
       "1.3343762179669856"
      ]
     },
     "execution_count": 30,
     "metadata": {},
     "output_type": "execute_result"
    }
   ],
   "source": [
    "mean_squared_error(y_train, grid_huber.predict(X_train_final), squared=True) "
   ]
  },
  {
   "cell_type": "code",
   "execution_count": 31,
   "id": "24f17ca5-98a9-40ff-8d89-8713c73ccaad",
   "metadata": {},
   "outputs": [
    {
     "data": {
      "text/plain": [
       "1.570905245534798"
      ]
     },
     "execution_count": 31,
     "metadata": {},
     "output_type": "execute_result"
    }
   ],
   "source": [
    "# marginally better performance on test set than OLS and Huber with default settings\n",
    "mean_squared_error(y_test, grid_huber.predict(X_test_final), squared=True)"
   ]
  },
  {
   "cell_type": "markdown",
   "id": "04a86fff-2d89-438b-b9de-82234afbe025",
   "metadata": {},
   "source": [
    "### Building an Ensemble Model"
   ]
  },
  {
   "cell_type": "code",
   "execution_count": 32,
   "id": "62c40497-82d0-4d0d-b95e-30b95b2ab506",
   "metadata": {},
   "outputs": [],
   "source": [
    "# instantiating the other estimators\n",
    "knn = KNeighborsRegressor()\n",
    "forest = RandomForestRegressor()\n",
    "tree = DecisionTreeRegressor()\n",
    "huber = HuberRegressor()"
   ]
  },
  {
   "cell_type": "code",
   "execution_count": 33,
   "id": "dd6e72f7-c987-458f-acaf-8a401b81bc4f",
   "metadata": {},
   "outputs": [],
   "source": [
    "# knn.fit(X_train_final, y_train)\n",
    "# mean_squared_error(y_test, knn.predict(X_test_final), squared=True)"
   ]
  },
  {
   "cell_type": "code",
   "execution_count": 34,
   "id": "963475af-7bb3-4c3c-a3b3-dabfda8be87e",
   "metadata": {},
   "outputs": [],
   "source": [
    "# forest.fit(X_train_final, y_train)\n",
    "# mean_squared_error(y_test, forest.predict(X_test_final), squared=True)"
   ]
  },
  {
   "cell_type": "code",
   "execution_count": 35,
   "id": "0758abcb-5969-4dd2-9522-a71fd2f6c421",
   "metadata": {},
   "outputs": [],
   "source": [
    "# tree.fit(X_train_final, y_train)\n",
    "# mean_squared_error(y_test, tree.predict(X_test_final), squared=True)"
   ]
  },
  {
   "cell_type": "code",
   "execution_count": 36,
   "id": "fb5bafdd-7e2d-4f00-94a3-2139912df61b",
   "metadata": {},
   "outputs": [],
   "source": [
    "ensemble = VotingRegressor([\n",
    "    ('knn', KNeighborsRegressor()),\n",
    "    ('lr', LinearRegression()),\n",
    "    ('forest', RandomForestRegressor()),\n",
    "    ('huber', HuberRegressor()),\n",
    "    ('tree', DecisionTreeRegressor())\n",
    "])"
   ]
  },
  {
   "cell_type": "code",
   "execution_count": 37,
   "id": "31fc851c-5307-42f0-bf13-5c995a2363f2",
   "metadata": {
    "tags": []
   },
   "outputs": [
    {
     "data": {
      "text/plain": [
       "VotingRegressor(estimators=[('knn', KNeighborsRegressor()),\n",
       "                            ('lr', LinearRegression()),\n",
       "                            ('forest', RandomForestRegressor()),\n",
       "                            ('huber', HuberRegressor()),\n",
       "                            ('tree', DecisionTreeRegressor())])"
      ]
     },
     "execution_count": 37,
     "metadata": {},
     "output_type": "execute_result"
    }
   ],
   "source": [
    "ensemble.fit(X_train_final, y_train)"
   ]
  },
  {
   "cell_type": "code",
   "execution_count": 38,
   "id": "13b75472-d22a-4be2-a015-ff5c326d42b0",
   "metadata": {},
   "outputs": [
    {
     "data": {
      "text/plain": [
       "1.3867390475056334"
      ]
     },
     "execution_count": 38,
     "metadata": {},
     "output_type": "execute_result"
    }
   ],
   "source": [
    "ens_preds = ensemble.predict(X_test_final)\n",
    "mean_squared_error(y_test, ens_preds, squared = True) # ever better performance "
   ]
  },
  {
   "cell_type": "markdown",
   "id": "0ae0b63d-cd82-48a1-b55f-faf05b39391a",
   "metadata": {
    "jp-MarkdownHeadingCollapsed": true,
    "tags": []
   },
   "source": [
    "#### Augmenting model performance using GridSearch and weights"
   ]
  },
  {
   "cell_type": "code",
   "execution_count": 39,
   "id": "315c0e15-c602-4d83-b0fe-55caab03d9de",
   "metadata": {},
   "outputs": [],
   "source": [
    "# ens_params = {\n",
    "#    'knn__n_neighbors': [5,6,7,8,9,10],\n",
    "#    'forest__max_depth': [2,3,4],\n",
    "#    'tree__max_depth': [2,3,4],\n",
    "#    'huber__epsilon': [1, 1.5, 2.5, 3.5],\n",
    "#    'weights': [[.2,.2,.2,.2,.2], [.1, .05,.4,.6, .05], [0.1, 0.15, .35, .3, 0.1]]\n",
    "# }"
   ]
  },
  {
   "cell_type": "code",
   "execution_count": 40,
   "id": "2f6dd497-02c8-40a2-ab16-d1c79b8cee65",
   "metadata": {},
   "outputs": [],
   "source": [
    "# ens_grid = GridSearchCV(ensemble, param_grid=ens_params, cv=5, scoring = 'neg_mean_squared_error')"
   ]
  },
  {
   "cell_type": "code",
   "execution_count": 41,
   "id": "513926e4-c69e-4598-8ff2-46de05e27d9d",
   "metadata": {
    "tags": []
   },
   "outputs": [],
   "source": [
    "# ens_grid.fit(X_train_final, y_train)"
   ]
  },
  {
   "cell_type": "code",
   "execution_count": 42,
   "id": "6c3da90c-251a-4b65-b565-eb6454ec2b9f",
   "metadata": {},
   "outputs": [],
   "source": [
    "# ens_grid.best_params_"
   ]
  },
  {
   "cell_type": "code",
   "execution_count": 43,
   "id": "2e5469d6-d7fe-462f-8dfd-9f123c77e2a2",
   "metadata": {},
   "outputs": [],
   "source": [
    "# ens_grid_preds = ensemble.predict(X_test_final)\n",
    "# mean_squared_error(y_test, ens_grid_preds, squared = True)"
   ]
  },
  {
   "cell_type": "markdown",
   "id": "591ccca6-cb6e-4ed2-9ed8-d8bc16393a50",
   "metadata": {},
   "source": [
    "### Building a Neural Net"
   ]
  },
  {
   "cell_type": "code",
   "execution_count": 44,
   "id": "b380c22e-8424-4ace-b00e-7bf96d8eca06",
   "metadata": {},
   "outputs": [
    {
     "name": "stderr",
     "output_type": "stream",
     "text": [
      "2022-05-09 18:28:54.568789: I tensorflow/core/platform/cpu_feature_guard.cc:151] This TensorFlow binary is optimized with oneAPI Deep Neural Network Library (oneDNN) to use the following CPU instructions in performance-critical operations:  AVX2 FMA\n",
      "To enable them in other operations, rebuild TensorFlow with the appropriate compiler flags.\n"
     ]
    }
   ],
   "source": [
    "network = Sequential()\n",
    "network.add(Dense(100, activation = 'relu')) \n",
    "network.add(Dense(100, activation = 'relu')) \n",
    "network.add(Dense(100, activation = 'relu')) \n",
    "network.add(Dense(1, activation='linear'))"
   ]
  },
  {
   "cell_type": "code",
   "execution_count": 45,
   "id": "ee2df22b-6166-4ac7-b4d7-98c903781f78",
   "metadata": {},
   "outputs": [],
   "source": [
    "network.compile(loss = 'mae', optimizer = 'adam', metrics = ['mse'])"
   ]
  },
  {
   "cell_type": "code",
   "execution_count": 46,
   "id": "cf6bb270-10b0-4b22-bbaa-00cadb2fdc00",
   "metadata": {
    "tags": []
   },
   "outputs": [
    {
     "name": "stdout",
     "output_type": "stream",
     "text": [
      "Epoch 1/20\n",
      "28/28 [==============================] - 1s 13ms/step - loss: 1.3592 - mse: 2.7152 - val_loss: 1.3123 - val_mse: 2.4932\n",
      "Epoch 2/20\n",
      "28/28 [==============================] - 0s 3ms/step - loss: 1.1889 - mse: 2.2168 - val_loss: 1.1460 - val_mse: 1.9455\n",
      "Epoch 3/20\n",
      "28/28 [==============================] - 0s 3ms/step - loss: 1.0210 - mse: 1.6944 - val_loss: 1.0446 - val_mse: 1.6754\n",
      "Epoch 4/20\n",
      "28/28 [==============================] - 0s 3ms/step - loss: 0.9786 - mse: 1.5737 - val_loss: 1.0559 - val_mse: 1.7467\n",
      "Epoch 5/20\n",
      "28/28 [==============================] - 0s 3ms/step - loss: 0.9099 - mse: 1.3955 - val_loss: 1.0267 - val_mse: 1.5938\n",
      "Epoch 6/20\n",
      "28/28 [==============================] - 0s 3ms/step - loss: 0.8728 - mse: 1.3211 - val_loss: 1.0509 - val_mse: 1.6991\n",
      "Epoch 7/20\n",
      "28/28 [==============================] - 0s 3ms/step - loss: 0.8441 - mse: 1.2100 - val_loss: 0.9812 - val_mse: 1.5727\n",
      "Epoch 8/20\n",
      "28/28 [==============================] - 0s 3ms/step - loss: 0.8338 - mse: 1.2160 - val_loss: 0.9823 - val_mse: 1.5935\n",
      "Epoch 9/20\n",
      "28/28 [==============================] - 0s 3ms/step - loss: 0.7787 - mse: 1.1079 - val_loss: 0.9808 - val_mse: 1.5595\n",
      "Epoch 10/20\n",
      "28/28 [==============================] - 0s 4ms/step - loss: 0.7615 - mse: 1.0788 - val_loss: 0.9863 - val_mse: 1.5662\n",
      "Epoch 11/20\n",
      "28/28 [==============================] - 0s 3ms/step - loss: 0.7080 - mse: 0.9870 - val_loss: 0.9801 - val_mse: 1.5916\n",
      "Epoch 12/20\n",
      "28/28 [==============================] - 0s 3ms/step - loss: 0.6976 - mse: 0.9488 - val_loss: 0.9800 - val_mse: 1.6479\n",
      "Epoch 13/20\n",
      "28/28 [==============================] - 0s 3ms/step - loss: 0.6878 - mse: 0.9365 - val_loss: 0.9520 - val_mse: 1.5060\n",
      "Epoch 14/20\n",
      "28/28 [==============================] - 0s 3ms/step - loss: 0.6740 - mse: 0.9043 - val_loss: 0.9768 - val_mse: 1.5838\n",
      "Epoch 15/20\n",
      "28/28 [==============================] - 0s 4ms/step - loss: 0.6522 - mse: 0.8581 - val_loss: 0.9733 - val_mse: 1.6321\n",
      "Epoch 16/20\n",
      "28/28 [==============================] - 0s 3ms/step - loss: 0.6349 - mse: 0.8374 - val_loss: 0.9620 - val_mse: 1.5622\n",
      "Epoch 17/20\n",
      "28/28 [==============================] - 0s 3ms/step - loss: 0.6305 - mse: 0.8439 - val_loss: 0.9875 - val_mse: 1.6681\n",
      "Epoch 18/20\n",
      "28/28 [==============================] - 0s 4ms/step - loss: 0.6052 - mse: 0.7773 - val_loss: 0.9842 - val_mse: 1.6342\n",
      "Epoch 19/20\n",
      "28/28 [==============================] - 0s 4ms/step - loss: 0.6066 - mse: 0.7857 - val_loss: 0.9602 - val_mse: 1.5990\n",
      "Epoch 20/20\n",
      "28/28 [==============================] - 0s 3ms/step - loss: 0.5817 - mse: 0.7585 - val_loss: 0.9595 - val_mse: 1.6279\n"
     ]
    }
   ],
   "source": [
    "# neural net performs worse than ensemble model\n",
    "history = network.fit(X_train_final, y_train, validation_data = (X_test_final, y_test), epochs = 20)"
   ]
  },
  {
   "cell_type": "code",
   "execution_count": 47,
   "id": "432704a5-ca93-49c8-a686-76c33ee0e465",
   "metadata": {},
   "outputs": [],
   "source": [
    "# pickling ensemble model\n",
    "import pickle\n",
    "with open ('ensemble_model.pkl', 'wb') as ensemble_model:\n",
    "    pickle.dump(ensemble, ensemble_model)"
   ]
  },
  {
   "cell_type": "markdown",
   "id": "db675deb-0c32-4c27-8c54-ca18e4013af8",
   "metadata": {},
   "source": [
    "### Conclusion\n",
    "\n",
    "Our analysis revealed that the ensemble model is the most accurate predictor of deal size. Surprisingly, the artificial neural network was a weaker estimator."
   ]
  },
  {
   "cell_type": "code",
   "execution_count": null,
   "id": "d8ad0ad2-03d5-4645-adf4-5375698d8c07",
   "metadata": {},
   "outputs": [],
   "source": []
  }
 ],
 "metadata": {
  "kernelspec": {
   "display_name": "Python 3 (ipykernel)",
   "language": "python",
   "name": "python3"
  },
  "language_info": {
   "codemirror_mode": {
    "name": "ipython",
    "version": 3
   },
   "file_extension": ".py",
   "mimetype": "text/x-python",
   "name": "python",
   "nbconvert_exporter": "python",
   "pygments_lexer": "ipython3",
   "version": "3.9.7"
  }
 },
 "nbformat": 4,
 "nbformat_minor": 5
}
